{
 "cells": [
  {
   "cell_type": "markdown",
   "metadata": {},
   "source": [
    "# Homework 04:  Null Values, Categorical Features, and Cross Validation\n",
    "\n",
    "In this homework, we are going to add three **tools to your toolbox** which will be essential when you work with real datasets:\n",
    "1. What do we do with null-values?\n",
    "2. How do we deal with non-numeric features?\n",
    "3. What validation strategy provides the best estimate of the final testing score?\n",
    "\n",
    "For (1), we'll explore several ways of dealing with null values:\n",
    "- Removing columns with too many null values,\n",
    "- Imputing values for missing categorical labels using the \"most frequent\" category strategy, and\n",
    "- Imputing values for missing numeric values using the median. \n",
    "\n",
    "\n",
    "For (2), we'll use ordinal encoding to replace categorical labels with floats.\n",
    "\n",
    "For (3), we'll try three different cross-validation strategies:\n",
    "\n",
    "- 5-Fold CV,\n",
    "- Repeated 5-Fold CV, and\n",
    "- Leave one out CV, \n",
    "\n",
    "and see which comes closest to estimating the final testing MSE. \n",
    "\n",
    "\n",
    "#### Grading: There are eight (8) answers to provide, each worth 6 points.  (You get 2 points for free.)\n",
    " "
   ]
  },
  {
   "cell_type": "code",
   "execution_count": 1,
   "metadata": {},
   "outputs": [
    {
     "name": "stderr",
     "output_type": "stream",
     "text": [
      "/Users/tersaalmaw/Documents/GitHub/Homework_04/.venv/lib/python3.9/site-packages/tqdm/auto.py:21: TqdmWarning: IProgress not found. Please update jupyter and ipywidgets. See https://ipywidgets.readthedocs.io/en/stable/user_install.html\n",
      "  from .autonotebook import tqdm as notebook_tqdm\n"
     ]
    }
   ],
   "source": [
    "# Useful imports\n",
    "\n",
    "import os\n",
    "import kagglehub\n",
    "import pandas as pd\n",
    "import numpy as np\n",
    "import matplotlib.pyplot as plt\n",
    "import math \n",
    "\n",
    "from sklearn.model_selection import train_test_split, cross_val_score, RepeatedKFold, LeaveOneOut\n",
    "from sklearn.linear_model    import LinearRegression\n",
    "from sklearn.preprocessing   import OrdinalEncoder, OneHotEncoder  \n",
    "from sklearn.impute          import SimpleImputer\n",
    "from sklearn.metrics         import mean_squared_error, r2_score\n",
    "from tqdm                    import tqdm\n",
    "\n"
   ]
  },
  {
   "cell_type": "markdown",
   "metadata": {},
   "source": [
    "### Load the Ames Housing Dataset\n",
    "\n",
    "For a description of the features of this dataset, see the **Appendix**. "
   ]
  },
  {
   "cell_type": "code",
   "execution_count": 2,
   "metadata": {},
   "outputs": [
    {
     "name": "stdout",
     "output_type": "stream",
     "text": [
      "Warning: Looks like you're using an outdated `kagglehub` version (installed: 0.3.8), please consider upgrading to the latest version (0.3.10).\n",
      "Path to dataset files: /Users/tersaalmaw/.cache/kagglehub/datasets/shashanknecrothapa/ames-housing-dataset/versions/1\n"
     ]
    }
   ],
   "source": [
    "# Download the latest version of the dataset\n",
    "path = kagglehub.dataset_download(\"shashanknecrothapa/ames-housing-dataset\")\n",
    "\n",
    "print(\"Path to dataset files:\", path)\n",
    "\n",
    "# Construct the full path to the CSV file (update the file name if necessary)\n",
    "csv_file = os.path.join(path, \"AmesHousing.csv\")\n",
    "\n",
    "# Read the dataset into a DataFrame\n",
    "df = pd.read_csv(csv_file)"
   ]
  },
  {
   "cell_type": "code",
   "execution_count": 3,
   "metadata": {},
   "outputs": [
    {
     "data": {
      "text/html": [
       "<div>\n",
       "<style scoped>\n",
       "    .dataframe tbody tr th:only-of-type {\n",
       "        vertical-align: middle;\n",
       "    }\n",
       "\n",
       "    .dataframe tbody tr th {\n",
       "        vertical-align: top;\n",
       "    }\n",
       "\n",
       "    .dataframe thead th {\n",
       "        text-align: right;\n",
       "    }\n",
       "</style>\n",
       "<table border=\"1\" class=\"dataframe\">\n",
       "  <thead>\n",
       "    <tr style=\"text-align: right;\">\n",
       "      <th></th>\n",
       "      <th>Order</th>\n",
       "      <th>PID</th>\n",
       "      <th>MS SubClass</th>\n",
       "      <th>MS Zoning</th>\n",
       "      <th>Lot Frontage</th>\n",
       "      <th>Lot Area</th>\n",
       "      <th>Street</th>\n",
       "      <th>Alley</th>\n",
       "      <th>Lot Shape</th>\n",
       "      <th>Land Contour</th>\n",
       "      <th>...</th>\n",
       "      <th>Pool Area</th>\n",
       "      <th>Pool QC</th>\n",
       "      <th>Fence</th>\n",
       "      <th>Misc Feature</th>\n",
       "      <th>Misc Val</th>\n",
       "      <th>Mo Sold</th>\n",
       "      <th>Yr Sold</th>\n",
       "      <th>Sale Type</th>\n",
       "      <th>Sale Condition</th>\n",
       "      <th>SalePrice</th>\n",
       "    </tr>\n",
       "  </thead>\n",
       "  <tbody>\n",
       "    <tr>\n",
       "      <th>0</th>\n",
       "      <td>1</td>\n",
       "      <td>526301100</td>\n",
       "      <td>20</td>\n",
       "      <td>RL</td>\n",
       "      <td>141.0</td>\n",
       "      <td>31770</td>\n",
       "      <td>Pave</td>\n",
       "      <td>NaN</td>\n",
       "      <td>IR1</td>\n",
       "      <td>Lvl</td>\n",
       "      <td>...</td>\n",
       "      <td>0</td>\n",
       "      <td>NaN</td>\n",
       "      <td>NaN</td>\n",
       "      <td>NaN</td>\n",
       "      <td>0</td>\n",
       "      <td>5</td>\n",
       "      <td>2010</td>\n",
       "      <td>WD</td>\n",
       "      <td>Normal</td>\n",
       "      <td>215000</td>\n",
       "    </tr>\n",
       "    <tr>\n",
       "      <th>1</th>\n",
       "      <td>2</td>\n",
       "      <td>526350040</td>\n",
       "      <td>20</td>\n",
       "      <td>RH</td>\n",
       "      <td>80.0</td>\n",
       "      <td>11622</td>\n",
       "      <td>Pave</td>\n",
       "      <td>NaN</td>\n",
       "      <td>Reg</td>\n",
       "      <td>Lvl</td>\n",
       "      <td>...</td>\n",
       "      <td>0</td>\n",
       "      <td>NaN</td>\n",
       "      <td>MnPrv</td>\n",
       "      <td>NaN</td>\n",
       "      <td>0</td>\n",
       "      <td>6</td>\n",
       "      <td>2010</td>\n",
       "      <td>WD</td>\n",
       "      <td>Normal</td>\n",
       "      <td>105000</td>\n",
       "    </tr>\n",
       "    <tr>\n",
       "      <th>2</th>\n",
       "      <td>3</td>\n",
       "      <td>526351010</td>\n",
       "      <td>20</td>\n",
       "      <td>RL</td>\n",
       "      <td>81.0</td>\n",
       "      <td>14267</td>\n",
       "      <td>Pave</td>\n",
       "      <td>NaN</td>\n",
       "      <td>IR1</td>\n",
       "      <td>Lvl</td>\n",
       "      <td>...</td>\n",
       "      <td>0</td>\n",
       "      <td>NaN</td>\n",
       "      <td>NaN</td>\n",
       "      <td>Gar2</td>\n",
       "      <td>12500</td>\n",
       "      <td>6</td>\n",
       "      <td>2010</td>\n",
       "      <td>WD</td>\n",
       "      <td>Normal</td>\n",
       "      <td>172000</td>\n",
       "    </tr>\n",
       "    <tr>\n",
       "      <th>3</th>\n",
       "      <td>4</td>\n",
       "      <td>526353030</td>\n",
       "      <td>20</td>\n",
       "      <td>RL</td>\n",
       "      <td>93.0</td>\n",
       "      <td>11160</td>\n",
       "      <td>Pave</td>\n",
       "      <td>NaN</td>\n",
       "      <td>Reg</td>\n",
       "      <td>Lvl</td>\n",
       "      <td>...</td>\n",
       "      <td>0</td>\n",
       "      <td>NaN</td>\n",
       "      <td>NaN</td>\n",
       "      <td>NaN</td>\n",
       "      <td>0</td>\n",
       "      <td>4</td>\n",
       "      <td>2010</td>\n",
       "      <td>WD</td>\n",
       "      <td>Normal</td>\n",
       "      <td>244000</td>\n",
       "    </tr>\n",
       "    <tr>\n",
       "      <th>4</th>\n",
       "      <td>5</td>\n",
       "      <td>527105010</td>\n",
       "      <td>60</td>\n",
       "      <td>RL</td>\n",
       "      <td>74.0</td>\n",
       "      <td>13830</td>\n",
       "      <td>Pave</td>\n",
       "      <td>NaN</td>\n",
       "      <td>IR1</td>\n",
       "      <td>Lvl</td>\n",
       "      <td>...</td>\n",
       "      <td>0</td>\n",
       "      <td>NaN</td>\n",
       "      <td>MnPrv</td>\n",
       "      <td>NaN</td>\n",
       "      <td>0</td>\n",
       "      <td>3</td>\n",
       "      <td>2010</td>\n",
       "      <td>WD</td>\n",
       "      <td>Normal</td>\n",
       "      <td>189900</td>\n",
       "    </tr>\n",
       "  </tbody>\n",
       "</table>\n",
       "<p>5 rows × 82 columns</p>\n",
       "</div>"
      ],
      "text/plain": [
       "   Order        PID  MS SubClass MS Zoning  Lot Frontage  Lot Area Street  \\\n",
       "0      1  526301100           20        RL         141.0     31770   Pave   \n",
       "1      2  526350040           20        RH          80.0     11622   Pave   \n",
       "2      3  526351010           20        RL          81.0     14267   Pave   \n",
       "3      4  526353030           20        RL          93.0     11160   Pave   \n",
       "4      5  527105010           60        RL          74.0     13830   Pave   \n",
       "\n",
       "  Alley Lot Shape Land Contour  ... Pool Area Pool QC  Fence Misc Feature  \\\n",
       "0   NaN       IR1          Lvl  ...         0     NaN    NaN          NaN   \n",
       "1   NaN       Reg          Lvl  ...         0     NaN  MnPrv          NaN   \n",
       "2   NaN       IR1          Lvl  ...         0     NaN    NaN         Gar2   \n",
       "3   NaN       Reg          Lvl  ...         0     NaN    NaN          NaN   \n",
       "4   NaN       IR1          Lvl  ...         0     NaN  MnPrv          NaN   \n",
       "\n",
       "  Misc Val Mo Sold Yr Sold Sale Type  Sale Condition  SalePrice  \n",
       "0        0       5    2010       WD           Normal     215000  \n",
       "1        0       6    2010       WD           Normal     105000  \n",
       "2    12500       6    2010       WD           Normal     172000  \n",
       "3        0       4    2010       WD           Normal     244000  \n",
       "4        0       3    2010       WD           Normal     189900  \n",
       "\n",
       "[5 rows x 82 columns]"
      ]
     },
     "execution_count": 3,
     "metadata": {},
     "output_type": "execute_result"
    }
   ],
   "source": [
    "# Print the first few rows of the DataFrame\n",
    "df.head()"
   ]
  },
  {
   "cell_type": "code",
   "execution_count": 4,
   "metadata": {},
   "outputs": [
    {
     "name": "stdout",
     "output_type": "stream",
     "text": [
      "<class 'pandas.core.frame.DataFrame'>\n",
      "RangeIndex: 2930 entries, 0 to 2929\n",
      "Data columns (total 82 columns):\n",
      " #   Column           Non-Null Count  Dtype  \n",
      "---  ------           --------------  -----  \n",
      " 0   Order            2930 non-null   int64  \n",
      " 1   PID              2930 non-null   int64  \n",
      " 2   MS SubClass      2930 non-null   int64  \n",
      " 3   MS Zoning        2930 non-null   object \n",
      " 4   Lot Frontage     2440 non-null   float64\n",
      " 5   Lot Area         2930 non-null   int64  \n",
      " 6   Street           2930 non-null   object \n",
      " 7   Alley            198 non-null    object \n",
      " 8   Lot Shape        2930 non-null   object \n",
      " 9   Land Contour     2930 non-null   object \n",
      " 10  Utilities        2930 non-null   object \n",
      " 11  Lot Config       2930 non-null   object \n",
      " 12  Land Slope       2930 non-null   object \n",
      " 13  Neighborhood     2930 non-null   object \n",
      " 14  Condition 1      2930 non-null   object \n",
      " 15  Condition 2      2930 non-null   object \n",
      " 16  Bldg Type        2930 non-null   object \n",
      " 17  House Style      2930 non-null   object \n",
      " 18  Overall Qual     2930 non-null   int64  \n",
      " 19  Overall Cond     2930 non-null   int64  \n",
      " 20  Year Built       2930 non-null   int64  \n",
      " 21  Year Remod/Add   2930 non-null   int64  \n",
      " 22  Roof Style       2930 non-null   object \n",
      " 23  Roof Matl        2930 non-null   object \n",
      " 24  Exterior 1st     2930 non-null   object \n",
      " 25  Exterior 2nd     2930 non-null   object \n",
      " 26  Mas Vnr Type     1155 non-null   object \n",
      " 27  Mas Vnr Area     2907 non-null   float64\n",
      " 28  Exter Qual       2930 non-null   object \n",
      " 29  Exter Cond       2930 non-null   object \n",
      " 30  Foundation       2930 non-null   object \n",
      " 31  Bsmt Qual        2850 non-null   object \n",
      " 32  Bsmt Cond        2850 non-null   object \n",
      " 33  Bsmt Exposure    2847 non-null   object \n",
      " 34  BsmtFin Type 1   2850 non-null   object \n",
      " 35  BsmtFin SF 1     2929 non-null   float64\n",
      " 36  BsmtFin Type 2   2849 non-null   object \n",
      " 37  BsmtFin SF 2     2929 non-null   float64\n",
      " 38  Bsmt Unf SF      2929 non-null   float64\n",
      " 39  Total Bsmt SF    2929 non-null   float64\n",
      " 40  Heating          2930 non-null   object \n",
      " 41  Heating QC       2930 non-null   object \n",
      " 42  Central Air      2930 non-null   object \n",
      " 43  Electrical       2929 non-null   object \n",
      " 44  1st Flr SF       2930 non-null   int64  \n",
      " 45  2nd Flr SF       2930 non-null   int64  \n",
      " 46  Low Qual Fin SF  2930 non-null   int64  \n",
      " 47  Gr Liv Area      2930 non-null   int64  \n",
      " 48  Bsmt Full Bath   2928 non-null   float64\n",
      " 49  Bsmt Half Bath   2928 non-null   float64\n",
      " 50  Full Bath        2930 non-null   int64  \n",
      " 51  Half Bath        2930 non-null   int64  \n",
      " 52  Bedroom AbvGr    2930 non-null   int64  \n",
      " 53  Kitchen AbvGr    2930 non-null   int64  \n",
      " 54  Kitchen Qual     2930 non-null   object \n",
      " 55  TotRms AbvGrd    2930 non-null   int64  \n",
      " 56  Functional       2930 non-null   object \n",
      " 57  Fireplaces       2930 non-null   int64  \n",
      " 58  Fireplace Qu     1508 non-null   object \n",
      " 59  Garage Type      2773 non-null   object \n",
      " 60  Garage Yr Blt    2771 non-null   float64\n",
      " 61  Garage Finish    2771 non-null   object \n",
      " 62  Garage Cars      2929 non-null   float64\n",
      " 63  Garage Area      2929 non-null   float64\n",
      " 64  Garage Qual      2771 non-null   object \n",
      " 65  Garage Cond      2771 non-null   object \n",
      " 66  Paved Drive      2930 non-null   object \n",
      " 67  Wood Deck SF     2930 non-null   int64  \n",
      " 68  Open Porch SF    2930 non-null   int64  \n",
      " 69  Enclosed Porch   2930 non-null   int64  \n",
      " 70  3Ssn Porch       2930 non-null   int64  \n",
      " 71  Screen Porch     2930 non-null   int64  \n",
      " 72  Pool Area        2930 non-null   int64  \n",
      " 73  Pool QC          13 non-null     object \n",
      " 74  Fence            572 non-null    object \n",
      " 75  Misc Feature     106 non-null    object \n",
      " 76  Misc Val         2930 non-null   int64  \n",
      " 77  Mo Sold          2930 non-null   int64  \n",
      " 78  Yr Sold          2930 non-null   int64  \n",
      " 79  Sale Type        2930 non-null   object \n",
      " 80  Sale Condition   2930 non-null   object \n",
      " 81  SalePrice        2930 non-null   int64  \n",
      "dtypes: float64(11), int64(28), object(43)\n",
      "memory usage: 1.8+ MB\n"
     ]
    }
   ],
   "source": [
    "# Uncomment this to see the listing of features\n",
    "\n",
    "df.info()"
   ]
  },
  {
   "cell_type": "code",
   "execution_count": 5,
   "metadata": {},
   "outputs": [
    {
     "name": "stdout",
     "output_type": "stream",
     "text": [
      "Feature Histograms\n"
     ]
    },
    {
     "data": {
      "image/png": "[encoded data removed]",
      "text/plain": [
       "<Figure size 1500x1300 with 42 Axes>"
      ]
     },
     "metadata": {},
     "output_type": "display_data"
    }
   ],
   "source": [
    "# Uncomment this to see the feature histograms\n",
    "\n",
    "print(\"Feature Histograms\")\n",
    "df.hist(figsize=(15, 13), bins=30)  # Adjust figure size and number of bins\n",
    "plt.tight_layout()  # Adjust spacing to prevent overlap\n",
    "plt.show()"
   ]
  },
  {
   "cell_type": "markdown",
   "metadata": {},
   "source": [
    "### Data Preprocessing\n",
    "\n",
    "First, let's remove the features that are clearly not useful for regression."
   ]
  },
  {
   "cell_type": "code",
   "execution_count": 6,
   "metadata": {},
   "outputs": [
    {
     "data": {
      "text/html": [
       "<div>\n",
       "<style scoped>\n",
       "    .dataframe tbody tr th:only-of-type {\n",
       "        vertical-align: middle;\n",
       "    }\n",
       "\n",
       "    .dataframe tbody tr th {\n",
       "        vertical-align: top;\n",
       "    }\n",
       "\n",
       "    .dataframe thead th {\n",
       "        text-align: right;\n",
       "    }\n",
       "</style>\n",
       "<table border=\"1\" class=\"dataframe\">\n",
       "  <thead>\n",
       "    <tr style=\"text-align: right;\">\n",
       "      <th></th>\n",
       "      <th>MS SubClass</th>\n",
       "      <th>MS Zoning</th>\n",
       "      <th>Lot Frontage</th>\n",
       "      <th>Lot Area</th>\n",
       "      <th>Street</th>\n",
       "      <th>Alley</th>\n",
       "      <th>Lot Shape</th>\n",
       "      <th>Land Contour</th>\n",
       "      <th>Utilities</th>\n",
       "      <th>Lot Config</th>\n",
       "      <th>...</th>\n",
       "      <th>Pool Area</th>\n",
       "      <th>Pool QC</th>\n",
       "      <th>Fence</th>\n",
       "      <th>Misc Feature</th>\n",
       "      <th>Misc Val</th>\n",
       "      <th>Mo Sold</th>\n",
       "      <th>Yr Sold</th>\n",
       "      <th>Sale Type</th>\n",
       "      <th>Sale Condition</th>\n",
       "      <th>SalePrice</th>\n",
       "    </tr>\n",
       "  </thead>\n",
       "  <tbody>\n",
       "    <tr>\n",
       "      <th>0</th>\n",
       "      <td>20</td>\n",
       "      <td>RL</td>\n",
       "      <td>141.0</td>\n",
       "      <td>31770</td>\n",
       "      <td>Pave</td>\n",
       "      <td>NaN</td>\n",
       "      <td>IR1</td>\n",
       "      <td>Lvl</td>\n",
       "      <td>AllPub</td>\n",
       "      <td>Corner</td>\n",
       "      <td>...</td>\n",
       "      <td>0</td>\n",
       "      <td>NaN</td>\n",
       "      <td>NaN</td>\n",
       "      <td>NaN</td>\n",
       "      <td>0</td>\n",
       "      <td>5</td>\n",
       "      <td>2010</td>\n",
       "      <td>WD</td>\n",
       "      <td>Normal</td>\n",
       "      <td>215000</td>\n",
       "    </tr>\n",
       "    <tr>\n",
       "      <th>1</th>\n",
       "      <td>20</td>\n",
       "      <td>RH</td>\n",
       "      <td>80.0</td>\n",
       "      <td>11622</td>\n",
       "      <td>Pave</td>\n",
       "      <td>NaN</td>\n",
       "      <td>Reg</td>\n",
       "      <td>Lvl</td>\n",
       "      <td>AllPub</td>\n",
       "      <td>Inside</td>\n",
       "      <td>...</td>\n",
       "      <td>0</td>\n",
       "      <td>NaN</td>\n",
       "      <td>MnPrv</td>\n",
       "      <td>NaN</td>\n",
       "      <td>0</td>\n",
       "      <td>6</td>\n",
       "      <td>2010</td>\n",
       "      <td>WD</td>\n",
       "      <td>Normal</td>\n",
       "      <td>105000</td>\n",
       "    </tr>\n",
       "    <tr>\n",
       "      <th>2</th>\n",
       "      <td>20</td>\n",
       "      <td>RL</td>\n",
       "      <td>81.0</td>\n",
       "      <td>14267</td>\n",
       "      <td>Pave</td>\n",
       "      <td>NaN</td>\n",
       "      <td>IR1</td>\n",
       "      <td>Lvl</td>\n",
       "      <td>AllPub</td>\n",
       "      <td>Corner</td>\n",
       "      <td>...</td>\n",
       "      <td>0</td>\n",
       "      <td>NaN</td>\n",
       "      <td>NaN</td>\n",
       "      <td>Gar2</td>\n",
       "      <td>12500</td>\n",
       "      <td>6</td>\n",
       "      <td>2010</td>\n",
       "      <td>WD</td>\n",
       "      <td>Normal</td>\n",
       "      <td>172000</td>\n",
       "    </tr>\n",
       "    <tr>\n",
       "      <th>3</th>\n",
       "      <td>20</td>\n",
       "      <td>RL</td>\n",
       "      <td>93.0</td>\n",
       "      <td>11160</td>\n",
       "      <td>Pave</td>\n",
       "      <td>NaN</td>\n",
       "      <td>Reg</td>\n",
       "      <td>Lvl</td>\n",
       "      <td>AllPub</td>\n",
       "      <td>Corner</td>\n",
       "      <td>...</td>\n",
       "      <td>0</td>\n",
       "      <td>NaN</td>\n",
       "      <td>NaN</td>\n",
       "      <td>NaN</td>\n",
       "      <td>0</td>\n",
       "      <td>4</td>\n",
       "      <td>2010</td>\n",
       "      <td>WD</td>\n",
       "      <td>Normal</td>\n",
       "      <td>244000</td>\n",
       "    </tr>\n",
       "    <tr>\n",
       "      <th>4</th>\n",
       "      <td>60</td>\n",
       "      <td>RL</td>\n",
       "      <td>74.0</td>\n",
       "      <td>13830</td>\n",
       "      <td>Pave</td>\n",
       "      <td>NaN</td>\n",
       "      <td>IR1</td>\n",
       "      <td>Lvl</td>\n",
       "      <td>AllPub</td>\n",
       "      <td>Inside</td>\n",
       "      <td>...</td>\n",
       "      <td>0</td>\n",
       "      <td>NaN</td>\n",
       "      <td>MnPrv</td>\n",
       "      <td>NaN</td>\n",
       "      <td>0</td>\n",
       "      <td>3</td>\n",
       "      <td>2010</td>\n",
       "      <td>WD</td>\n",
       "      <td>Normal</td>\n",
       "      <td>189900</td>\n",
       "    </tr>\n",
       "  </tbody>\n",
       "</table>\n",
       "<p>5 rows × 80 columns</p>\n",
       "</div>"
      ],
      "text/plain": [
       "   MS SubClass MS Zoning  Lot Frontage  Lot Area Street Alley Lot Shape  \\\n",
       "0           20        RL         141.0     31770   Pave   NaN       IR1   \n",
       "1           20        RH          80.0     11622   Pave   NaN       Reg   \n",
       "2           20        RL          81.0     14267   Pave   NaN       IR1   \n",
       "3           20        RL          93.0     11160   Pave   NaN       Reg   \n",
       "4           60        RL          74.0     13830   Pave   NaN       IR1   \n",
       "\n",
       "  Land Contour Utilities Lot Config  ... Pool Area Pool QC  Fence  \\\n",
       "0          Lvl    AllPub     Corner  ...         0     NaN    NaN   \n",
       "1          Lvl    AllPub     Inside  ...         0     NaN  MnPrv   \n",
       "2          Lvl    AllPub     Corner  ...         0     NaN    NaN   \n",
       "3          Lvl    AllPub     Corner  ...         0     NaN    NaN   \n",
       "4          Lvl    AllPub     Inside  ...         0     NaN  MnPrv   \n",
       "\n",
       "  Misc Feature Misc Val Mo Sold  Yr Sold  Sale Type  Sale Condition  SalePrice  \n",
       "0          NaN        0       5     2010        WD           Normal     215000  \n",
       "1          NaN        0       6     2010        WD           Normal     105000  \n",
       "2         Gar2    12500       6     2010        WD           Normal     172000  \n",
       "3          NaN        0       4     2010        WD           Normal     244000  \n",
       "4          NaN        0       3     2010        WD           Normal     189900  \n",
       "\n",
       "[5 rows x 80 columns]"
      ]
     },
     "execution_count": 6,
     "metadata": {},
     "output_type": "execute_result"
    }
   ],
   "source": [
    "df_clean = df.drop(columns=['Order','PID'])\n",
    "df_clean.head()"
   ]
  },
  {
   "cell_type": "markdown",
   "metadata": {},
   "source": [
    "### Problem One: Dealing with Null Values\n",
    "\n",
    "There are basically two strategies for dealing with missing (null or `NaN`) values:\n",
    "- Get them out of your dataset by **removing** features and/or samples containing too many nulls.\n",
    "- **Impute** values by replacing nulls with the mean, median, or other \"neutral\" value computed from the feature.\n",
    "\n",
    "**Note:** It is also possible to impute values using more advanced techniques such as mode imputation, forward/backward fill, or predictive modeling (e.g., KNN or regression-based imputation). These techniques might be useful when you start to work on your projecct. "
   ]
  },
  {
   "cell_type": "markdown",
   "metadata": {},
   "source": [
    "**First we will explore how many null values occur in each feature.**"
   ]
  },
  {
   "cell_type": "code",
   "execution_count": 7,
   "metadata": {},
   "outputs": [
    {
     "name": "stdout",
     "output_type": "stream",
     "text": [
      "The dataset contains 2930 samples.\n",
      "\n",
      "Feature Name    # Nulls      Null %    Type\n",
      "------------    -------      ------    ----\n",
      "Pool QC         2917         99.56%   Categorical\n",
      "Misc Feature    2824         96.38%   Categorical\n",
      "Alley           2732         93.24%   Categorical\n",
      "Fence           2358         80.48%   Categorical\n",
      "Mas Vnr Type    1775         60.58%   Categorical\n",
      "Fireplace Qu    1422         48.53%   Categorical\n",
      "Lot Frontage    490          16.72%   Numeric\n",
      "Garage Cond     159          5.43%   Categorical\n",
      "Garage Qual     159          5.43%   Categorical\n",
      "Garage Finish   159          5.43%   Categorical\n",
      "Garage Yr Blt   159          5.43%   Numeric\n",
      "Garage Type     157          5.36%   Categorical\n",
      "Bsmt Exposure   83           2.83%   Categorical\n",
      "BsmtFin Type 2  81           2.76%   Categorical\n",
      "Bsmt Cond       80           2.73%   Categorical\n",
      "Bsmt Qual       80           2.73%   Categorical\n",
      "BsmtFin Type 1  80           2.73%   Categorical\n",
      "Mas Vnr Area    23           0.78%   Numeric\n",
      "Bsmt Half Bath  2            0.07%   Numeric\n",
      "Bsmt Full Bath  2            0.07%   Numeric\n",
      "BsmtFin SF 1    1            0.03%   Numeric\n",
      "Garage Cars     1            0.03%   Numeric\n",
      "Garage Area     1            0.03%   Numeric\n",
      "Total Bsmt SF   1            0.03%   Numeric\n",
      "Bsmt Unf SF     1            0.03%   Numeric\n",
      "BsmtFin SF 2    1            0.03%   Numeric\n",
      "Electrical      1            0.03%   Categorical\n"
     ]
    }
   ],
   "source": [
    "# This function will list how many nulls occur in which features\n",
    "\n",
    "def show_null_counts_features(df):\n",
    "    # Count the nulls and calculate the %\n",
    "    count_nulls = df.isnull().sum()\n",
    "    df_nulls = (df.isnull().mean() * 100).round(2)\n",
    "    \n",
    "    # Determine if the column is numeric or non-numeric\n",
    "    feature_types = df.dtypes.apply(lambda x: 'Numeric' if np.issubdtype(x, np.number) else 'Categorical')\n",
    "    \n",
    "    # Filter out the columns with missing values and sort them in descending order\n",
    "    missing_data = pd.DataFrame({\n",
    "        'Feature': count_nulls[count_nulls > 0].index,\n",
    "        '# Null Values': count_nulls[count_nulls > 0].values, \n",
    "        'Null %': df_nulls[df_nulls > 0].values,\n",
    "        'Type': feature_types[count_nulls > 0].values\n",
    "    }).sort_values(by='Null %', ascending=False)\n",
    "    \n",
    "    print(f'The dataset contains {len(df)} samples.\\n')\n",
    "\n",
    "    if (len(missing_data) == 0):\n",
    "        print(\"There are no null values in the dataset!\")\n",
    "    else:\n",
    "        # Print null value stats\n",
    "        print('Feature Name    # Nulls      Null %    Type')\n",
    "        print('------------    -------      ------    ----')\n",
    "        for index, row in missing_data.iterrows():\n",
    "            print(f\"{row['Feature']:<15} {row['# Null Values']:<12} {row['Null %']:.2f}%   {row['Type']}\")\n",
    "\n",
    "show_null_counts_features(df_clean)"
   ]
  },
  {
   "cell_type": "markdown",
   "metadata": {},
   "source": [
    "### Part A\n",
    "\n",
    "Clearly, some of these features are not very informative! Let's drop the worst offenders!\n",
    "\n",
    "**Fill in your code after the comments below to drop any features with more than `max_nulls` null values.**\n"
   ]
  },
  {
   "cell_type": "code",
   "execution_count": 8,
   "metadata": {},
   "outputs": [
    {
     "name": "stdout",
     "output_type": "stream",
     "text": [
      "2930\n"
     ]
    }
   ],
   "source": [
    "print(df.shape[0])"
   ]
  },
  {
   "cell_type": "code",
   "execution_count": 9,
   "metadata": {},
   "outputs": [
    {
     "name": "stdout",
     "output_type": "stream",
     "text": [
      "The dataset contains 2930 samples.\n",
      "\n",
      "Feature Name    # Nulls      Null %    Type\n",
      "------------    -------      ------    ----\n",
      "Lot Frontage    490          16.72%   Numeric\n",
      "Garage Yr Blt   159          5.43%   Numeric\n",
      "Garage Qual     159          5.43%   Categorical\n",
      "Garage Finish   159          5.43%   Categorical\n",
      "Garage Cond     159          5.43%   Categorical\n",
      "Garage Type     157          5.36%   Categorical\n",
      "Bsmt Exposure   83           2.83%   Categorical\n",
      "BsmtFin Type 2  81           2.76%   Categorical\n",
      "BsmtFin Type 1  80           2.73%   Categorical\n",
      "Bsmt Cond       80           2.73%   Categorical\n",
      "Bsmt Qual       80           2.73%   Categorical\n",
      "Mas Vnr Area    23           0.78%   Numeric\n",
      "Bsmt Full Bath  2            0.07%   Numeric\n",
      "Bsmt Half Bath  2            0.07%   Numeric\n",
      "BsmtFin SF 1    1            0.03%   Numeric\n",
      "BsmtFin SF 2    1            0.03%   Numeric\n",
      "Bsmt Unf SF     1            0.03%   Numeric\n",
      "Electrical      1            0.03%   Categorical\n",
      "Garage Cars     1            0.03%   Numeric\n",
      "Garage Area     1            0.03%   Numeric\n",
      "Total Bsmt SF   1            0.03%   Numeric\n"
     ]
    }
   ],
   "source": [
    "max_nulls = 500      # We will drop any features with more than max_nulls missing values\n",
    "\n",
    "# Count null values per column\n",
    "count_null_val = df.isnull().sum()\n",
    "\n",
    "# Filter out columns where null count exceeds max_nulls\n",
    "drop_columns = count_null_val[count_null_val > max_nulls].index\n",
    "\n",
    "\n",
    "# Drop the columns\n",
    "df_clean = df.drop(columns=drop_columns)\n",
    "\n",
    "# Uncomment to verify they were removed\n",
    "\n",
    "show_null_counts_features(df_clean)\n",
    " \n"
   ]
  },
  {
   "cell_type": "code",
   "execution_count": 10,
   "metadata": {},
   "outputs": [
    {
     "name": "stdout",
     "output_type": "stream",
     "text": [
      "a1a = 2930\n"
     ]
    }
   ],
   "source": [
    "# Set this variable to the number of columns that were dropped\n",
    "\n",
    "a1a = 2930\n",
    "\n",
    "print(f\"a1a = {a1a}\")                                   # Don't delete or change this line, it is needed by the auto-grader"
   ]
  },
  {
   "cell_type": "markdown",
   "metadata": {},
   "source": [
    "### Part B:  Feature Transformations for Imputing Null Values\n",
    "\n",
    "Now let's perform the following feature transformations:\n",
    "\n",
    "- For categorical features, we'll replace null values with the most frequent category in that column\n",
    "- For numeric features, we'll replace nulls with the median for that column\n",
    "\n",
    "\n",
    "This is very simple to do with a couple of lines of Python, but naturally we want to use `sklearn` functions whenever we can, so we'll use ` SimpleImputer`.\n",
    "\n",
    "**Go read the doc page for `SimpleImputer` before proceeding.**"
   ]
  },
  {
   "cell_type": "markdown",
   "metadata": {},
   "source": [
    "### Imputing Categorical Features using the Most Frequent Strategy"
   ]
  },
  {
   "cell_type": "markdown",
   "metadata": {},
   "source": [
    "In the next cell you see how easy it is to examine the categories. **Take a moment and explore several of the categorical features.**  In this dataset, most of them are skewed, with a clear \"most favorite\" category. \n",
    "(If the feature values are not skewed, then you could change these to a new category \"Unknown\".)"
   ]
  },
  {
   "cell_type": "code",
   "execution_count": 11,
   "metadata": {},
   "outputs": [
    {
     "data": {
      "text/plain": [
       "Garage Qual\n",
       "TA     2615\n",
       "NaN     159\n",
       "Fa      124\n",
       "Gd       24\n",
       "Po        5\n",
       "Ex        3\n",
       "Name: count, dtype: int64"
      ]
     },
     "execution_count": 11,
     "metadata": {},
     "output_type": "execute_result"
    }
   ],
   "source": [
    "df_clean['Garage Qual'].value_counts(dropna=False)"
   ]
  },
  {
   "cell_type": "markdown",
   "metadata": {},
   "source": [
    "Before proceeding, let's get lists of the two types of features."
   ]
  },
  {
   "cell_type": "code",
   "execution_count": 12,
   "metadata": {},
   "outputs": [
    {
     "name": "stdout",
     "output_type": "stream",
     "text": [
      "Categorical Features: ['MS Zoning', 'Street', 'Lot Shape', 'Land Contour', 'Utilities', 'Lot Config', 'Land Slope', 'Neighborhood', 'Condition 1', 'Condition 2', 'Bldg Type', 'House Style', 'Roof Style', 'Roof Matl', 'Exterior 1st', 'Exterior 2nd', 'Exter Qual', 'Exter Cond', 'Foundation', 'Bsmt Qual', 'Bsmt Cond', 'Bsmt Exposure', 'BsmtFin Type 1', 'BsmtFin Type 2', 'Heating', 'Heating QC', 'Central Air', 'Electrical', 'Kitchen Qual', 'Functional', 'Garage Type', 'Garage Finish', 'Garage Qual', 'Garage Cond', 'Paved Drive', 'Sale Type', 'Sale Condition']\n",
      "Numeric Features: ['Order', 'PID', 'MS SubClass', 'Lot Frontage', 'Lot Area', 'Overall Qual', 'Overall Cond', 'Year Built', 'Year Remod/Add', 'Mas Vnr Area', 'BsmtFin SF 1', 'BsmtFin SF 2', 'Bsmt Unf SF', 'Total Bsmt SF', '1st Flr SF', '2nd Flr SF', 'Low Qual Fin SF', 'Gr Liv Area', 'Bsmt Full Bath', 'Bsmt Half Bath', 'Full Bath', 'Half Bath', 'Bedroom AbvGr', 'Kitchen AbvGr', 'TotRms AbvGrd', 'Fireplaces', 'Garage Yr Blt', 'Garage Cars', 'Garage Area', 'Wood Deck SF', 'Open Porch SF', 'Enclosed Porch', '3Ssn Porch', 'Screen Porch', 'Pool Area', 'Misc Val', 'Mo Sold', 'Yr Sold', 'SalePrice']\n"
     ]
    }
   ],
   "source": [
    "# Identify categorical and numeric features\n",
    "\n",
    "categorical_features = df_clean.select_dtypes(exclude=['number']).columns.tolist()\n",
    "numeric_features     = df_clean.select_dtypes(include=['number']).columns.tolist()\n",
    "\n",
    "# Print results if you want\n",
    "print(\"Categorical Features:\", categorical_features)\n",
    "print(\"Numeric Features:\", numeric_features)"
   ]
  },
  {
   "cell_type": "markdown",
   "metadata": {},
   "source": [
    "**Now you must impute all the categorical features using `SimpleImputer` with the `most_frequent` strategy.**"
   ]
  },
  {
   "cell_type": "code",
   "execution_count": 13,
   "metadata": {},
   "outputs": [
    {
     "name": "stdout",
     "output_type": "stream",
     "text": [
      "The dataset contains 2930 samples.\n",
      "\n",
      "Feature Name    # Nulls      Null %    Type\n",
      "------------    -------      ------    ----\n",
      "Lot Frontage    490          16.72%   Numeric\n",
      "Garage Yr Blt   159          5.43%   Numeric\n",
      "Mas Vnr Area    23           0.78%   Numeric\n",
      "Bsmt Full Bath  2            0.07%   Numeric\n",
      "Bsmt Half Bath  2            0.07%   Numeric\n",
      "BsmtFin SF 1    1            0.03%   Numeric\n",
      "BsmtFin SF 2    1            0.03%   Numeric\n",
      "Bsmt Unf SF     1            0.03%   Numeric\n",
      "Total Bsmt SF   1            0.03%   Numeric\n",
      "Garage Cars     1            0.03%   Numeric\n",
      "Garage Area     1            0.03%   Numeric\n",
      "2774\n"
     ]
    }
   ],
   "source": [
    "# First make a copy of the cleaned dataset, call it df_imputed\n",
    "df_imputed = df_clean.copy()\n",
    "#print(df_imputed)\n",
    "\n",
    "# Impute categorical columns (using most frequent category)\n",
    "imputer = SimpleImputer(strategy='most_frequent')\n",
    "\n",
    "categorical_columns = df_imputed.select_dtypes(include=['object']).columns\n",
    "\n",
    "\n",
    "df_imputed[categorical_columns] = imputer.fit_transform(df_imputed[categorical_columns])\n",
    "\n",
    "ta_count = df_imputed['Garage Qual'].value_counts().get('TA', 0)\n",
    "\n",
    "# Verify: only numeric features should appear\n",
    "\n",
    "show_null_counts_features(df_imputed)\n",
    "\n",
    "print(ta_count)"
   ]
  },
  {
   "cell_type": "code",
   "execution_count": 14,
   "metadata": {},
   "outputs": [
    {
     "name": "stdout",
     "output_type": "stream",
     "text": [
      "a1b = 2774\n"
     ]
    }
   ],
   "source": [
    "# Set this variable to the number of occurrences of the category 'TA' in the feature 'Garage Qual'\n",
    "# It should have increased from before the imputation, because Nan values were changed to 'TA'\n",
    "\n",
    "a1b = 2774   \n",
    "\n",
    "print(f\"a1b = {a1b}\")                                   # Don't delete or change this line, it is needed by the auto-grader"
   ]
  },
  {
   "cell_type": "markdown",
   "metadata": {},
   "source": [
    "### Part C:  Imputing Numeric Features using the Median\n",
    "\n",
    "Now you must \"simply impute\" values for the numeric features using the `median` strategy. "
   ]
  },
  {
   "cell_type": "code",
   "execution_count": 15,
   "metadata": {},
   "outputs": [
    {
     "name": "stdout",
     "output_type": "stream",
     "text": [
      "The dataset contains 2930 samples.\n",
      "\n",
      "There are no null values in the dataset!\n"
     ]
    }
   ],
   "source": [
    "# Impute numeric columns (using the median)\n",
    "numeric_columns = df_imputed.select_dtypes(include=['Float64', 'int64']).columns\n",
    "df_imputed[numeric_columns] = df_imputed[numeric_columns].apply(lambda col: col.fillna(col.median()))\n",
    "# Verify: There should be no null values\n",
    "\n",
    "show_null_counts_features(df_imputed)"
   ]
  },
  {
   "cell_type": "code",
   "execution_count": 16,
   "metadata": {},
   "outputs": [
    {
     "name": "stdout",
     "output_type": "stream",
     "text": [
      "a1c = 0\n"
     ]
    }
   ],
   "source": [
    "# Nothing to do here:   Answer should be 0 \n",
    "\n",
    "a1c = df_imputed.isnull().any(axis=1).sum()      # count number of rows with any missing values\n",
    "\n",
    "print(f\"a1c = {a1c}\")                            # Don't delete or change this line, it is needed by the auto-grader"
   ]
  },
  {
   "cell_type": "markdown",
   "metadata": {},
   "source": [
    "### Part D:   Ordinal encoding the categorical features with OrdinalEncoder\n",
    "\n",
    "The simplest option in dealing with categorical values is to represent them by integers 0, 1, 2, etc.\n",
    "\n",
    "**Before proceeding, read the doc page on `sklearn`'s `OrdinalEncoder`.**\n",
    "\n",
    "Follow the comments to perform this feature transformation"
   ]
  },
  {
   "cell_type": "code",
   "execution_count": 17,
   "metadata": {},
   "outputs": [
    {
     "data": {
      "text/plain": [
       "0       215000\n",
       "1       105000\n",
       "2       172000\n",
       "3       244000\n",
       "4       189900\n",
       "         ...  \n",
       "2925    142500\n",
       "2926    131000\n",
       "2927    132000\n",
       "2928    170000\n",
       "2929    188000\n",
       "Name: SalePrice, Length: 2930, dtype: int64"
      ]
     },
     "execution_count": 17,
     "metadata": {},
     "output_type": "execute_result"
    }
   ],
   "source": [
    "df_imputed['SalePrice']"
   ]
  },
  {
   "cell_type": "code",
   "execution_count": 18,
   "metadata": {},
   "outputs": [
    {
     "data": {
      "text/html": [
       "<div>\n",
       "<style scoped>\n",
       "    .dataframe tbody tr th:only-of-type {\n",
       "        vertical-align: middle;\n",
       "    }\n",
       "\n",
       "    .dataframe tbody tr th {\n",
       "        vertical-align: top;\n",
       "    }\n",
       "\n",
       "    .dataframe thead th {\n",
       "        text-align: right;\n",
       "    }\n",
       "</style>\n",
       "<table border=\"1\" class=\"dataframe\">\n",
       "  <thead>\n",
       "    <tr style=\"text-align: right;\">\n",
       "      <th></th>\n",
       "      <th>Order</th>\n",
       "      <th>PID</th>\n",
       "      <th>MS SubClass</th>\n",
       "      <th>MS Zoning</th>\n",
       "      <th>Lot Frontage</th>\n",
       "      <th>Lot Area</th>\n",
       "      <th>Street</th>\n",
       "      <th>Lot Shape</th>\n",
       "      <th>Land Contour</th>\n",
       "      <th>Utilities</th>\n",
       "      <th>...</th>\n",
       "      <th>Open Porch SF</th>\n",
       "      <th>Enclosed Porch</th>\n",
       "      <th>3Ssn Porch</th>\n",
       "      <th>Screen Porch</th>\n",
       "      <th>Pool Area</th>\n",
       "      <th>Misc Val</th>\n",
       "      <th>Mo Sold</th>\n",
       "      <th>Yr Sold</th>\n",
       "      <th>Sale Type</th>\n",
       "      <th>Sale Condition</th>\n",
       "    </tr>\n",
       "  </thead>\n",
       "  <tbody>\n",
       "    <tr>\n",
       "      <th>0</th>\n",
       "      <td>1</td>\n",
       "      <td>526301100</td>\n",
       "      <td>20</td>\n",
       "      <td>5.0</td>\n",
       "      <td>141.0</td>\n",
       "      <td>31770</td>\n",
       "      <td>1.0</td>\n",
       "      <td>0.0</td>\n",
       "      <td>3.0</td>\n",
       "      <td>0.0</td>\n",
       "      <td>...</td>\n",
       "      <td>62</td>\n",
       "      <td>0</td>\n",
       "      <td>0</td>\n",
       "      <td>0</td>\n",
       "      <td>0</td>\n",
       "      <td>0</td>\n",
       "      <td>5</td>\n",
       "      <td>2010</td>\n",
       "      <td>9.0</td>\n",
       "      <td>4.0</td>\n",
       "    </tr>\n",
       "    <tr>\n",
       "      <th>1</th>\n",
       "      <td>2</td>\n",
       "      <td>526350040</td>\n",
       "      <td>20</td>\n",
       "      <td>4.0</td>\n",
       "      <td>80.0</td>\n",
       "      <td>11622</td>\n",
       "      <td>1.0</td>\n",
       "      <td>3.0</td>\n",
       "      <td>3.0</td>\n",
       "      <td>0.0</td>\n",
       "      <td>...</td>\n",
       "      <td>0</td>\n",
       "      <td>0</td>\n",
       "      <td>0</td>\n",
       "      <td>120</td>\n",
       "      <td>0</td>\n",
       "      <td>0</td>\n",
       "      <td>6</td>\n",
       "      <td>2010</td>\n",
       "      <td>9.0</td>\n",
       "      <td>4.0</td>\n",
       "    </tr>\n",
       "    <tr>\n",
       "      <th>2</th>\n",
       "      <td>3</td>\n",
       "      <td>526351010</td>\n",
       "      <td>20</td>\n",
       "      <td>5.0</td>\n",
       "      <td>81.0</td>\n",
       "      <td>14267</td>\n",
       "      <td>1.0</td>\n",
       "      <td>0.0</td>\n",
       "      <td>3.0</td>\n",
       "      <td>0.0</td>\n",
       "      <td>...</td>\n",
       "      <td>36</td>\n",
       "      <td>0</td>\n",
       "      <td>0</td>\n",
       "      <td>0</td>\n",
       "      <td>0</td>\n",
       "      <td>12500</td>\n",
       "      <td>6</td>\n",
       "      <td>2010</td>\n",
       "      <td>9.0</td>\n",
       "      <td>4.0</td>\n",
       "    </tr>\n",
       "    <tr>\n",
       "      <th>3</th>\n",
       "      <td>4</td>\n",
       "      <td>526353030</td>\n",
       "      <td>20</td>\n",
       "      <td>5.0</td>\n",
       "      <td>93.0</td>\n",
       "      <td>11160</td>\n",
       "      <td>1.0</td>\n",
       "      <td>3.0</td>\n",
       "      <td>3.0</td>\n",
       "      <td>0.0</td>\n",
       "      <td>...</td>\n",
       "      <td>0</td>\n",
       "      <td>0</td>\n",
       "      <td>0</td>\n",
       "      <td>0</td>\n",
       "      <td>0</td>\n",
       "      <td>0</td>\n",
       "      <td>4</td>\n",
       "      <td>2010</td>\n",
       "      <td>9.0</td>\n",
       "      <td>4.0</td>\n",
       "    </tr>\n",
       "    <tr>\n",
       "      <th>4</th>\n",
       "      <td>5</td>\n",
       "      <td>527105010</td>\n",
       "      <td>60</td>\n",
       "      <td>5.0</td>\n",
       "      <td>74.0</td>\n",
       "      <td>13830</td>\n",
       "      <td>1.0</td>\n",
       "      <td>0.0</td>\n",
       "      <td>3.0</td>\n",
       "      <td>0.0</td>\n",
       "      <td>...</td>\n",
       "      <td>34</td>\n",
       "      <td>0</td>\n",
       "      <td>0</td>\n",
       "      <td>0</td>\n",
       "      <td>0</td>\n",
       "      <td>0</td>\n",
       "      <td>3</td>\n",
       "      <td>2010</td>\n",
       "      <td>9.0</td>\n",
       "      <td>4.0</td>\n",
       "    </tr>\n",
       "  </tbody>\n",
       "</table>\n",
       "<p>5 rows × 75 columns</p>\n",
       "</div>"
      ],
      "text/plain": [
       "   Order        PID  MS SubClass  MS Zoning  Lot Frontage  Lot Area  Street  \\\n",
       "0      1  526301100           20        5.0         141.0     31770     1.0   \n",
       "1      2  526350040           20        4.0          80.0     11622     1.0   \n",
       "2      3  526351010           20        5.0          81.0     14267     1.0   \n",
       "3      4  526353030           20        5.0          93.0     11160     1.0   \n",
       "4      5  527105010           60        5.0          74.0     13830     1.0   \n",
       "\n",
       "   Lot Shape  Land Contour  Utilities  ...  Open Porch SF  Enclosed Porch  \\\n",
       "0        0.0           3.0        0.0  ...             62               0   \n",
       "1        3.0           3.0        0.0  ...              0               0   \n",
       "2        0.0           3.0        0.0  ...             36               0   \n",
       "3        3.0           3.0        0.0  ...              0               0   \n",
       "4        0.0           3.0        0.0  ...             34               0   \n",
       "\n",
       "   3Ssn Porch  Screen Porch  Pool Area  Misc Val  Mo Sold  Yr Sold  Sale Type  \\\n",
       "0           0             0          0         0        5     2010        9.0   \n",
       "1           0           120          0         0        6     2010        9.0   \n",
       "2           0             0          0     12500        6     2010        9.0   \n",
       "3           0             0          0         0        4     2010        9.0   \n",
       "4           0             0          0         0        3     2010        9.0   \n",
       "\n",
       "   Sale Condition  \n",
       "0             4.0  \n",
       "1             4.0  \n",
       "2             4.0  \n",
       "3             4.0  \n",
       "4             4.0  \n",
       "\n",
       "[5 rows x 75 columns]"
      ]
     },
     "execution_count": 18,
     "metadata": {},
     "output_type": "execute_result"
    }
   ],
   "source": [
    "# Put df_imputed in the form X, y\n",
    "X = df_imputed.drop(columns=['SalePrice'])\n",
    "y = df_imputed['SalePrice']\n",
    "\n",
    "# Initialize OrdinalEncoder\n",
    "ordinal_encoder = OrdinalEncoder()\n",
    "\n",
    "# Fit and transform categorical columns\n",
    "X[categorical_columns] = ordinal_encoder.fit_transform(X[categorical_columns])\n",
    "\n",
    "# Convert back to DataFrame to retain column names \n",
    "X = pd.DataFrame(X, columns = X.columns)\n",
    "\n",
    "# Verify\n",
    "\n",
    "X.head()"
   ]
  },
  {
   "cell_type": "code",
   "execution_count": 19,
   "metadata": {},
   "outputs": [
    {
     "name": "stdout",
     "output_type": "stream",
     "text": [
      "a1d = [0. 3. 1. 2.]\n"
     ]
    }
   ],
   "source": [
    "# Nothing to do here:   Answer should show categories encoded as floats for 'Lot Shape'\n",
    "\n",
    "a1d = X['Lot Shape'].unique()                      \n",
    "\n",
    "print(f\"a1d = {a1d}\")                            # Don't delete or change this line, it is needed by the auto-grader"
   ]
  },
  {
   "cell_type": "markdown",
   "metadata": {},
   "source": [
    "## Problem Two:  Train and Test a Regression Model with Cross-Validation\n",
    "\n",
    "In this problem, we will perform a regression on the Ames Housing Dataset using several different cross-validation\n",
    "strategies, comparing the cross-validation score for each with the final testing MSE, to see which provides the best\n",
    "estimate of the final test score, and hence of the model's ability to generalize. \n",
    "\n",
    "\n",
    "We shall compare each of the following cross-validation MSEs with the final test MSE score:\n",
    "\n",
    "- 5-Fold Cross-Validation (default)\n",
    "- Repeated 5-Fold Cross-Validation (repeated 100 times)\n",
    "- Leave-One-Out Cross Validation\n",
    "\n",
    "**Note:  Set `n_jobs = -1` when doing cross validation to take advantage of parallelism in your environment.** "
   ]
  },
  {
   "cell_type": "markdown",
   "metadata": {},
   "source": [
    "### Part A: 5-Fold Cross-Validation\n",
    "\n",
    "For this part\n",
    "- Create a train-test split with `test_size=0.2` \n",
    "- Create a linear model and perform K-fold cross-validation with K = 5 and using `cross_val_score` with `scoring='neg_mean_squared_error'` (remember to take the mean of the CV scores and negate the result, since scoring uses a negative MSE). \n",
    "- Report (print out) the\n",
    "    - CV score (negated mean of MSE measurements over all K folds)\n",
    "    - Test MSE\n",
    "\n",
    "\n",
    "Use `random_state = 42` for all experiments. "
   ]
  },
  {
   "cell_type": "code",
   "execution_count": 20,
   "metadata": {},
   "outputs": [],
   "source": [
    "# Your code here\n",
    "X_train, X_test, y_train, y_test = train_test_split(X, y, test_size=0.2, random_state=42)\n",
    "\n",
    "model = LinearRegression()\n",
    "cval_score = cross_val_score(model, X_train, y_train, cv=5, scoring='neg_mean_squared_error', n_jobs=-1)\n",
    "\n",
    "cval_mse = -np.mean(cval_score)\n",
    "\n",
    "model.fit(X_train, y_train)\n",
    "y_pred = model.predict(X_test)\n",
    "test_mse = mean_squared_error(y_test, y_pred)\n"
   ]
  },
  {
   "cell_type": "code",
   "execution_count": 21,
   "metadata": {},
   "outputs": [
    {
     "name": "stdout",
     "output_type": "stream",
     "text": [
      "a2a = 1110353285.2992\n"
     ]
    }
   ],
   "source": [
    "# Assign to this variable the Test MSE \n",
    "\n",
    "a2a = test_mse        \n",
    "\n",
    "print(f\"a2a = {a2a:.4f}\")                            # Don't delete or change this line, it is needed by the auto-grader"
   ]
  },
  {
   "cell_type": "markdown",
   "metadata": {},
   "source": [
    "## Part B: Perform Repeated 5-Fold Cross Validation\n",
    "\n",
    "Read the doc page on `sklearn`'s `RepeatedKFold` for cross validation; repeat the CV calculation with K = 5 and `n_repeats=100`\n",
    "and report the CV score (negated mean of MSE measurements over all 100*K folds)"
   ]
  },
  {
   "cell_type": "code",
   "execution_count": 22,
   "metadata": {},
   "outputs": [],
   "source": [
    "# Your code here\n",
    "rkf = RepeatedKFold(n_splits=5, n_repeats=100, random_state=42)\n",
    "model = LinearRegression()\n",
    "cval_scores_repeated = cross_val_score(model, X, y, cv=rkf, scoring='neg_mean_squared_error', n_jobs=1)\n",
    "cval_mse_repeated = -np.mean(cval_scores_repeated)"
   ]
  },
  {
   "cell_type": "code",
   "execution_count": 23,
   "metadata": {},
   "outputs": [
    {
     "name": "stdout",
     "output_type": "stream",
     "text": [
      "a2b = 1066300148.4970\n"
     ]
    }
   ],
   "source": [
    "# Assign to this variable the mean CV score for the repeated K-fold experiment \n",
    "# Note: if your CV score is negative, go back and read the instructions for Part A again!\n",
    "\n",
    "a2b = cval_mse_repeated            \n",
    "\n",
    "print(f\"a2b = {a2b:.4f}\")                            # Don't delete or change this line, it is needed by the auto-grader"
   ]
  },
  {
   "cell_type": "markdown",
   "metadata": {},
   "source": [
    "## Part C: Perform Leave One Out Cross Validation\n",
    "\n",
    "This is simply a matter of setting `cv=LeaveOneOut()`. Run the same experiment and report the CV score. "
   ]
  },
  {
   "cell_type": "code",
   "execution_count": 24,
   "metadata": {},
   "outputs": [],
   "source": [
    "# Your code here\n",
    "loo = LeaveOneOut()\n",
    "model = LinearRegression()\n",
    "cval_score_loo = cross_val_score(model, X, y, cv=loo, scoring='neg_mean_squared_error', n_jobs=1)\n",
    "cval_mse_loo = -np.mean(cval_score_loo)"
   ]
  },
  {
   "cell_type": "code",
   "execution_count": 25,
   "metadata": {},
   "outputs": [
    {
     "name": "stdout",
     "output_type": "stream",
     "text": [
      "a2c = 1048970079.1483\n"
     ]
    }
   ],
   "source": [
    "# Assign to this variable the mean CV score for the leave-one-out experiment \n",
    "\n",
    "a2c = cval_mse_loo       \n",
    "\n",
    "print(f\"a2c = {a2c:.4f}\")                            # Don't delete or change this line, it is needed by the auto-grader"
   ]
  },
  {
   "cell_type": "markdown",
   "metadata": {},
   "source": [
    "### Part D\n",
    "\n",
    "Now, in order to help interpret the results, print out a table of the **square roots** of each of the CV scores and the final test score; we can then see the result in the same units (dollars) as the target, instead of the units of the MSE (dollars squared). \n",
    "\n",
    "Hint: Here is an example of how to print out values as currency:\n",
    "\n",
    "    cost = 23512.23\n",
    "    print(f\"cost: ${cost:,.2f}\")"
   ]
  },
  {
   "cell_type": "code",
   "execution_count": 26,
   "metadata": {},
   "outputs": [
    {
     "name": "stdout",
     "output_type": "stream",
     "text": [
      "The 5-Fold Cross-Validation Root Mean Squared Error: $31,457.86\n",
      "Repeated 5-Fold Cross-Validation Root Mean Squared Error: $32,654.25\n",
      "Leave-One-Out Cross-Validation Root Mean Squared Error: $32,387.81\n",
      "Final Test Root Mean Squared Error: $33,321.96\n"
     ]
    }
   ],
   "source": [
    "# Your code here \n",
    "\n",
    "cval_sr_mse = math.sqrt(-np.mean(cval_score))\n",
    "cval_sr_mse_repeated = math.sqrt(-np.mean(cval_scores_repeated))\n",
    "cval_sr_mse_loo = math.sqrt(cval_mse_loo)\n",
    "\n",
    "test_mse = mean_squared_error(y_test, y_pred)\n",
    "test_sqrt_mse = math.sqrt(test_mse)\n",
    "\n",
    "print(f\"The 5-Fold Cross-Validation Root Mean Squared Error: ${cval_sr_mse:,.2f}\")\n",
    "print(f\"Repeated 5-Fold Cross-Validation Root Mean Squared Error: ${cval_sr_mse_repeated:,.2f}\")\n",
    "print(f\"Leave-One-Out Cross-Validation Root Mean Squared Error: ${cval_sr_mse_loo:,.2f}\")\n",
    "print(f\"Final Test Root Mean Squared Error: ${test_sqrt_mse:,.2f}\")\n"
   ]
  },
  {
   "cell_type": "code",
   "execution_count": 27,
   "metadata": {},
   "outputs": [
    {
     "name": "stdout",
     "output_type": "stream",
     "text": [
      "a2d = A\n"
     ]
    }
   ],
   "source": [
    "# Assign to this variable the letter of the CV strategy whose RMSE came closest to the actual test score\n",
    "\n",
    "a2d = 'A'                      # Should be 'A' = 5-fold CV; 'B' = Repeated 5-Fold CV; or 'C' = LOO CV                   \n",
    "\n",
    "print(f\"a2d = {a2d}\")         # Don't delete or change this line, it is needed by the auto-grader"
   ]
  },
  {
   "cell_type": "markdown",
   "metadata": {},
   "source": [
    "### Optional\n",
    "\n",
    "- Try K-Fold CV with various K\n",
    "- Try `RepeatedKFold` with various K and various `n_repeated`. "
   ]
  },
  {
   "cell_type": "markdown",
   "metadata": {},
   "source": [
    "## Appendix: Explanation of Features in Ames Housing Dataset\n",
    "\n",
    "### **Identification**\n",
    "- `PID` → Parcel Identification Number (unique identifier for each property)\n",
    "- `Order` → Row number (used for indexing, not a feature)\n",
    "\n",
    "---\n",
    "\n",
    "### **Sale Information**\n",
    "- `SalePrice` → The final selling price of the house in USD (**Target variable**)\n",
    "- `Mo Sold` → Month the house was sold (1 = January, ..., 12 = December)\n",
    "- `Yr Sold` → Year the house was sold\n",
    "- `Sale Type` → Type of sale (e.g., **WD** = Warranty Deed, **New** = Newly Built)\n",
    "- `Sale Condition` → Condition of the sale (e.g., **Normal**, **Abnormal**, **Partial** for incomplete homes)\n",
    "\n",
    "---\n",
    "\n",
    "### **General Property Information**\n",
    "- `MS SubClass` → Type of dwelling (e.g., **20 = 1-story**, **60 = 2-story**, **120 = Townhouse**)\n",
    "- `MS Zoning` → Zoning classification (e.g., **RL = Residential Low Density**, **C = Commercial**)\n",
    "- `Lot Frontage` → Linear feet of street connected to property\n",
    "- `Lot Area` → Total size of the lot in square feet\n",
    "- `Neighborhood` → Physical locations within Ames (e.g., **CollgCr = College Creek**)\n",
    "- `Condition 1` / `Condition 2` → Proximity to roads or railroads (e.g., **Norm = Normal**, **PosN = Near Park**)\n",
    "\n",
    "---\n",
    "\n",
    "### **Building & House Design**\n",
    "- `Bldg Type` → Type of dwelling (e.g., **1Fam = Single Family**, **Twnhs = Townhouse**)\n",
    "- `House Style` → Style of the house (e.g., **1Story = One Story**, **2Story = Two Story**, **SplitFoyer**)\n",
    "- `Overall Qual` → Overall quality of materials (scale: **1 = Very Poor** to **10 = Excellent**)\n",
    "- `Overall Cond` → Overall condition of the house (scale: **1 = Very Poor** to **10 = Excellent**)\n",
    "\n",
    "---\n",
    "\n",
    "### **Year Built & Remodel**\n",
    "- `Year Built` → Original construction year\n",
    "- `Year Remod/Add` → Year of last remodel or addition\n",
    "\n",
    "---\n",
    "\n",
    "### **Exterior Features**\n",
    "- `Exterior 1st` / `Exterior 2nd` → Exterior covering material (e.g., **VinylSd = Vinyl Siding**, **HdBoard = Hardboard**)\n",
    "- `Mas Vnr Type` → Masonry veneer type (e.g., **BrkFace = Brick Face**, **None = No Veneer**)\n",
    "- `Mas Vnr Area` → Area of masonry veneer in square feet\n",
    "\n",
    "---\n",
    "\n",
    "### **Basement Features**\n",
    "- `Bsmt Qual` → Basement height (e.g., **Ex = Excellent**, **TA = Typical**, **Po = Poor**)\n",
    "- `Bsmt Cond` → General condition of the basement\n",
    "- `Bsmt Exposure` → Walkout or garden level basement?\n",
    "- `BsmtFin Type 1` / `BsmtFin SF 1` → Primary finished area in basement (e.g., **GLQ = Good Living Quarters**)\n",
    "- `BsmtFin Type 2` / `BsmtFin SF 2` → Secondary finished area\n",
    "- `Bsmt Unf SF` → Unfinished square feet in basement\n",
    "- `Total Bsmt SF` → Total square footage of basement\n",
    "\n",
    "---\n",
    "\n",
    "### **Utilities & HVAC**\n",
    "- `Heating` → Type of heating system (e.g., **GasA = Gas Forced Air**, **OthW = Hot Water Heating**)\n",
    "- `Heating QC` → Quality of heating system (e.g., **Ex = Excellent**, **Fa = Fair**)\n",
    "- `Central Air` → **Y = Yes**, **N = No**\n",
    "- `Electrical` → Electrical system (e.g., **SBrkr = Standard Breaker**, **FuseA = Fuse Box**)\n",
    "\n",
    "---\n",
    "\n",
    "### **Above Ground Living Area**\n",
    "- `1st Flr SF` → First-floor square footage\n",
    "- `2nd Flr SF` → Second-floor square footage\n",
    "- `Gr Liv Area` → Total **above-ground** living area in square feet\n",
    "- `Low Qual Fin SF` → Low-quality finished square feet (e.g., unfinished rooms)\n",
    "\n",
    "---\n",
    "\n",
    "### **Bathrooms & Bedrooms**\n",
    "- `Full Bath` → Full bathrooms above ground\n",
    "- `Half Bath` → Half bathrooms above ground\n",
    "- `Bsmt Full Bath` → Full bathrooms in basement\n",
    "- `Bsmt Half Bath` → Half bathrooms in basement\n",
    "- `Bedroom AbvGr` → Number of bedrooms above ground\n",
    "- `Kitchen AbvGr` → Number of kitchens above ground\n",
    "- `Kitchen Qual` → Kitchen quality (**Ex = Excellent**, **Fa = Fair**)\n",
    "\n",
    "---\n",
    "\n",
    "### **Garage Features**\n",
    "- `Garage Type` → Type of garage (e.g., **Attchd = Attached**, **Detchd = Detached**)\n",
    "- `Garage Yr Blt` → Year garage was built\n",
    "- `Garage Finish` → Interior finish of garage\n",
    "- `Garage Cars` → Size of garage in car capacity\n",
    "- `Garage Area` → Garage size in square feet\n",
    "\n",
    "---\n",
    "\n",
    "### **Additional Features**\n",
    "- `Fireplaces` → Number of fireplaces\n",
    "- `Fireplace Qu` → Fireplace quality\n",
    "- `Paved Drive` → Paved driveway? (**Y = Yes, P = Partial, N = No**)\n",
    "- `Wood Deck SF` → Square footage of wood deck\n",
    "- `Open Porch SF` → Square footage of open porch\n",
    "- `Enclosed Porch` → Square footage of enclosed porch\n",
    "- `Screen Porch` → Square footage of screened porch\n",
    "- `Pool Area` → Pool area in square feet\n",
    "- `Misc Val` → Miscellaneous features (e.g., shed value)\n",
    "\n"
   ]
  }
 ],
 "metadata": {
  "kernelspec": {
   "display_name": ".venv",
   "language": "python",
   "name": "python3"
  },
  "language_info": {
   "codemirror_mode": {
    "name": "ipython",
    "version": 3
   },
   "file_extension": ".py",
   "mimetype": "text/x-python",
   "name": "python",
   "nbconvert_exporter": "python",
   "pygments_lexer": "ipython3",
   "version": "3.9.7"
  }
 },
 "nbformat": 4,
 "nbformat_minor": 4
}
