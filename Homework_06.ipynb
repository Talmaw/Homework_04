{
 "cells": [
  {
   "cell_type": "markdown",
   "metadata": {},
   "source": [
    "# Homework 06: Decision Trees\n",
    "\n",
    "So far in this module, we have built a solid foundation in machine learning by focusing on linear regression and addressing a key challenge—the **model selection problem.** We have learned how to choose the right model, measure its performance, and fine-tune its parameters so that the model generalizes well to new data.\n",
    "\n",
    "This week, we turn our attention to a fundamentally different model: **decision trees.** Unlike regression models, where we typically adjust at most one key parameter (for example, the degree of a polynomial), decision trees have many interacting parameters that can significantly affect performance. As we move from simpler models to more complex ones, it becomes essential to develop a **systematic workflow** for exploring the parameter space and optimizing model performance.\n",
    "\n",
    "Next week, we will build on this foundation by studying **ensemble methods,** where multiple trees work together to produce even stronger predictive models. These methods will incorporate the parameters we explore this week, along with additional ones, offering even more flexibility in tuning but raising even more challenges in your workflow. \n",
    "\n",
    "### What We Will Do in This Homework\n",
    "\n",
    "To identify the best set of parameters for a model with many adjustable settings, there are two main approaches. You can either iterate through the parameters **manually** or use **automated search tools** such as grid search or random search. However, both methods have drawbacks. Manual iteration is time-consuming and exhausting, while automated searches can provide little insight and may not cover the most promising ranges. Exhaustively searching a huge parameter space is often unrealistic.\n",
    "\n",
    "For these reasons, we will employ a two-phase strategy:\n",
    "\n",
    "- **First Phase:** Visualize the effect of the most important parameters by plotting and calculating the minimal CV RMSE scores. Adjust the range of the plots to understand how each parameter behaves on its own or in combination with closely related parameters. This phase provides valuable insights, especially in identifying regions where performance is unstable or sensitive to parameter changes.\n",
    "- **Second Phase:** Focus on the most unstable parameter ranges identified in the first phase and perform an exhaustive search within these ranges to find the optimal model configuration.\n",
    "\n",
    "The homework is divided into four problems. The first three problems cover the first phase, and the fourth problem addresses the second phase:\n",
    "\n",
    "- **Problem One:** Tune the size and shape of the decision tree by adjusting `max_depth` and `max_leaf_nodes`.\n",
    "- **Problem Two:** Explore how the `max_features` parameter can improve performance by effectively performing on-the-fly feature selection during node splits.\n",
    "- **Problem Three:** Examine how `min_samples_split` influences performance by modifying the criteria for splitting nodes.\n",
    "- **Problem Four:** Based on the insights gained, use `GridSearchCV` to zero in on the best parameter choices.\n",
    "\n",
    "Before starting this homework, please review the lesson materials, watch the video, and download the decision tree notebook. This notebook contains code that you will refactor for this assignment—**refactoring existing code is an essential skill in machine learning.**\n",
    "\n",
    "**Note:** One significant change in this homework compared to previous notebooks is the use of `RepeatedKFold` to reduce the variance of our CV MSE scoring. Further details will be provided below.\n",
    "\n",
    "### Grading\n",
    "\n",
    "This homework has eight (8) graded problems, each worth 6 points, and you get 2 points free. "
   ]
  },
  {
   "cell_type": "code",
   "execution_count": 1,
   "metadata": {},
   "outputs": [
    {
     "name": "stderr",
     "output_type": "stream",
     "text": [
      "/Users/tersaalmaw/Documents/GitHub/Homework_04/.venv/lib/python3.9/site-packages/tqdm/auto.py:21: TqdmWarning: IProgress not found. Please update jupyter and ipywidgets. See https://ipywidgets.readthedocs.io/en/stable/user_install.html\n",
      "  from .autonotebook import tqdm as notebook_tqdm\n"
     ]
    }
   ],
   "source": [
    "# Useful imports\n",
    "\n",
    "import os\n",
    "import kagglehub\n",
    "import pandas as pd\n",
    "import numpy as np\n",
    "import matplotlib.pyplot as plt\n",
    "import requests\n",
    "import io\n",
    "import zipfile\n",
    "import time\n",
    "\n",
    "from sklearn.model_selection import train_test_split, cross_val_score, RepeatedKFold,GridSearchCV\n",
    "from sklearn.tree            import DecisionTreeRegressor\n",
    "from sklearn.metrics         import mean_squared_error\n",
    "from tqdm                    import tqdm\n",
    "\n",
    "import matplotlib.ticker as mticker           # Optional: you can print out y axis labels as dollars. \n",
    "\n",
    "# globals\n",
    "\n",
    "random_state = 42\n",
    "\n",
    "# utility code\n",
    "\n",
    "# Completely optional:  Format y-axis labels as dollars with commas\n",
    "def dollar_format(x, pos):\n",
    "    return f'${x:,.0f}'\n",
    "\n",
    "def format_time(seconds):\n",
    "    \n",
    "    # Convert seconds to hours, minutes, and remaining seconds\n",
    "    hours = int(seconds // 3600)\n",
    "    minutes = int((seconds % 3600) // 60)\n",
    "    remaining_seconds = seconds % 60\n",
    "    \n",
    "    # Return a formatted string    \n",
    "    if hours == 0 and minutes == 0:\n",
    "        return f\"{seconds:.2f}s\"\n",
    "    elif hours == 0:\n",
    "        return f\"{minutes}m {remaining_seconds:.2f}s\"\n",
    "\n",
    "    return f\"{hours}h {minutes}m {remaining_seconds:.2f}s\""
   ]
  },
  {
   "cell_type": "markdown",
   "metadata": {},
   "source": [
    "### Load the Ames Housing Dataset  \n",
    "\n",
    "The code cell below will load the dataset for you.  This is the same dataset we used for Homework 05. \n",
    "\n",
    "> **Notice** that this code includes a useful optimization: **before downloading, it first\n",
    "checks whether the files already exist.** This is a essential step when working with large datasets or when building deep learning models, where training can span hours or even days. By reusing previously downloaded files or saved models, you can avoid unnecessary work and significantly speed up your workflow.\n",
    "\n",
    "For a detailed description of the dataset features, please refer to the **Appendix** in Homework 05. "
   ]
  },
  {
   "cell_type": "code",
   "execution_count": 2,
   "metadata": {},
   "outputs": [
    {
     "name": "stdout",
     "output_type": "stream",
     "text": [
      "Dataset files already exist. Skipping download.\n",
      "Training and testing datasets loaded successfully.\n"
     ]
    }
   ],
   "source": [
    "\n",
    "data_dir = \"Ames_Dataset\"                              # Directory where files will be stored\n",
    "\n",
    "# Check if one of the files exists; if not, download and extract the zip file\n",
    "\n",
    "if not os.path.exists( os.path.join(data_dir, \"X_train.csv\") ):\n",
    "    print(\"Dataset files not found. Downloading...\")\n",
    "    zip_url = \"https://www.cs.bu.edu/fac/snyder/cs505/Data/ames_housing.zip\"\n",
    "    try:\n",
    "        response = requests.get(zip_url)\n",
    "        response.raise_for_status()  # Raise an error for bad status codes\n",
    "        # Extract the zip file into the designated directory\n",
    "        with zipfile.ZipFile(io.BytesIO(response.content)) as zipf:\n",
    "            zipf.extractall(data_dir)\n",
    "        print(\"Files downloaded and extracted successfully.\")\n",
    "    except requests.exceptions.RequestException as e:\n",
    "        print(f\"Error downloading the file: {e}\")\n",
    "else:\n",
    "    print(\"Dataset files already exist. Skipping download.\")\n",
    "\n",
    "# Load the datasets\n",
    "X_train = pd.read_csv(os.path.join(data_dir, \"X_train.csv\"))\n",
    "X_test  = pd.read_csv(os.path.join(data_dir, \"X_test.csv\"))\n",
    "y_train = pd.read_csv(os.path.join(data_dir, \"y_train.csv\")).squeeze(\"columns\")    \n",
    "y_test  = pd.read_csv(os.path.join(data_dir, \"y_test.csv\")).squeeze(\"columns\")\n",
    "\n",
    "print(\"Training and testing datasets loaded successfully.\")\n"
   ]
  },
  {
   "cell_type": "markdown",
   "metadata": {},
   "source": [
    "## Prelude: Wrapper Function for DecisionTreeRegressor\n",
    "\n",
    "In the next cell, you'll find the code from the video notebook that wraps together the model, CV scoring, and tree visualization (though visualization is not used in this homework). We made a few minor modifications:\n",
    "\n",
    "- Expanded the list of parameters to include the full set with default values.\n",
    "- Employed `RepeatedKFold` to perform 5-fold CV repeated 10 times, yielding 50 MSE scores for averaging instead of just 5.\n",
    "- Set the default value for `random_state` to 42.\n",
    "- Set the default value for the `visualize` parameter to `False`."
   ]
  },
  {
   "cell_type": "code",
   "execution_count": 3,
   "metadata": {},
   "outputs": [],
   "source": [
    "# Already provided: the code for run_decision_tree_regressor from the video notebook for week 6 with changes as noted\n",
    "\n",
    "# Wrapper around DecisionTreeRegressor with cross-validation\n",
    "def run_decision_tree_regressor(X_train,\n",
    "                                y_train,\n",
    "                                criterion                = 'squared_error',  # Default parameters for DecisionTreeRegressor\n",
    "                                splitter                 = 'best',\n",
    "                                max_depth                = None,\n",
    "                                min_samples_split        = 2,\n",
    "                                min_samples_leaf         = 1,\n",
    "                                min_weight_fraction_leaf = 0.0,\n",
    "                                max_features             = None,\n",
    "                                random_state             = 42,               # Not the default, but we'll use it consistently for reproducibility\n",
    "                                max_leaf_nodes           = None,\n",
    "                                min_impurity_decrease    = 0.0,\n",
    "                                ccp_alpha                = 0.0,     \n",
    "                                n_jobs                   = -1,               # Additional parameters for CV and display of plot and results\n",
    "                                visualize                = False\n",
    "                               ): \n",
    "    \n",
    "    # Initialize the DecisionTreeRegressor\n",
    "    decision_tree_model = DecisionTreeRegressor(criterion                = criterion,\n",
    "                                                splitter                 = splitter,\n",
    "                                                max_depth                = max_depth,\n",
    "                                                min_samples_split        = min_samples_split,\n",
    "                                                min_samples_leaf         = min_samples_leaf,\n",
    "                                                min_weight_fraction_leaf = min_weight_fraction_leaf,\n",
    "                                                max_features             = max_features,\n",
    "                                                random_state             = random_state,\n",
    "                                                max_leaf_nodes           = max_leaf_nodes,\n",
    "                                                min_impurity_decrease    = min_impurity_decrease,\n",
    "                                                ccp_alpha                = ccp_alpha\n",
    "                                               )\n",
    "\n",
    "    repeated_cv = RepeatedKFold(random_state=42)    # This will perform 5-fold CV 10 times and return 50 floats instead of 5 as before\n",
    "    \n",
    "    # Perform cross-validation and return mean CV MSE\n",
    "    neg_mse_scores = cross_val_score(decision_tree_model, \n",
    "                                     X_train, y_train,\n",
    "                                     scoring='neg_mean_squared_error',            \n",
    "                                     cv=repeated_cv,\n",
    "                                     n_jobs=n_jobs)\n",
    "\n",
    "    mean_cv_mse = -np.mean(neg_mse_scores)  # Convert negative MSE back to positive\n",
    "\n",
    "    # Train the model on the full training set for visualization purposes\n",
    "    if visualize:\n",
    "        decision_tree_model.fit(X_train, y_train)  # Train on full training data for visualization\n",
    "        plt.figure(figsize=(12, 6))\n",
    "        plot_tree(decision_tree_model, feature_names=feature_names, filled=True, rounded=True, precision=4)\n",
    "        plt.title(f\"Decision Tree Structure (max_depth={max_depth})\")\n",
    "        plt.show()\n",
    "\n",
    "    return mean_cv_mse\n",
    "    "
   ]
  },
  {
   "cell_type": "markdown",
   "metadata": {},
   "source": [
    "## Problem One: Controlling the Decision Tree's Shape with `max_depth` and `max_leaf_nodes`\n",
    "\n",
    "In this problem, you will explore how the structure of a decision tree impacts its performance, using the cross-validated RMSE as the evaluation metric. Answer the following questions:\n",
    "\n",
    "**A.** How does the baseline model (with default parameters, except for `random_state=42`) perform on the dataset?\n",
    "\n",
    "**B.** When adjusting only the `max_depth` parameter, which depth produces the lowest CV RMSE?\n",
    "\n",
    "**C.** When adjusting only the `max_leaf_nodes` parameter, which value results in the best performance?\n",
    "\n",
    "**D.** Can a combination of `max_depth` and `max_leaf_nodes` yield a lower CV RMSE than optimizing either parameter independently?\n",
    "\n",
    "For parts **B** and **C**, you will modify the code from the video notebook with minimal changes. For part **D**, you'll use `GridSearchCV` to systematically evaluate various combinations of these two parameters."
   ]
  },
  {
   "cell_type": "markdown",
   "metadata": {},
   "source": [
    "### Part 1.A \n",
    "\n",
    "In the next cell, use `run_decision_tree_regressor` to establish a baseline CV RMSE score for the **training set.** Keep all the parameters at their default. \n",
    "\n",
    "Note: Make sure you report the RMSE; `run_decision_tree_regressor` returns the MSE. "
   ]
  },
  {
   "cell_type": "code",
   "execution_count": 4,
   "metadata": {},
   "outputs": [],
   "source": [
    "# Your code here\n",
    "baseline_mse = run_decision_tree_regressor(X_train, y_train, random_state=42, visualize=False)\n",
    "\n",
    "baseline_rmse = np.sqrt(baseline_mse)"
   ]
  },
  {
   "cell_type": "markdown",
   "metadata": {},
   "source": [
    "### Problem 1.A Graded Answer"
   ]
  },
  {
   "cell_type": "code",
   "execution_count": 5,
   "metadata": {},
   "outputs": [
    {
     "name": "stdout",
     "output_type": "stream",
     "text": [
      "a1a = $38,773.17\n"
     ]
    }
   ],
   "source": [
    "# TODO:  Set the variable to the baseline CV RMSE score\n",
    "\n",
    "a1a = baseline_rmse                                # Just to get it to run without error; your answer here           \n",
    "\n",
    "print(f'a1a = ${a1a:,.2f}')"
   ]
  },
  {
   "cell_type": "markdown",
   "metadata": {},
   "source": [
    "### Part 1.B\n",
    "\n",
    "In the next cell, adapt the code from the video notebook to plot CV RMSE vs max_depth with the following modifications:\n",
    "\n",
    "- Determine an appropriate range of max_depth values that zero in on the optimum. If the best value occurs at either end of your range, it indicates you may not have captured the true minimum—expand your range accordingly.\n",
    "- Update your plot labels and printout to reflect that you are reporting the root mean square error (RMSE) in dollars. Use the following line in your plotting code to format the Y-axis labels in dollars:\n",
    "  ```python\n",
    "  plt.gca().yaxis.set_major_formatter(mticker.FuncFormatter(dollar_format))\n",
    "  ```\n",
    "\n",
    "**Note:** The code in the video notebook may not always use default settings. For this experiment, ensure that all parameters except `max_depth` are set to their default values. "
   ]
  },
  {
   "cell_type": "code",
   "execution_count": 6,
   "metadata": {},
   "outputs": [
    {
     "name": "stderr",
     "output_type": "stream",
     "text": [
      "100%|██████████| 16/16 [00:03<00:00,  4.78it/s]\n"
     ]
    },
    {
     "data": {
      "image/png": "[encoded data removed]",
      "text/plain": [
       "<Figure size 600x400 with 1 Axes>"
      ]
     },
     "metadata": {},
     "output_type": "display_data"
    },
    {
     "name": "stdout",
     "output_type": "stream",
     "text": [
      "Minimum MSE 1360873230.8511 found at x = 6\n",
      "Execution Time: 3.40s\n"
     ]
    }
   ],
   "source": [
    "# Cut and paste the code from the video notebook to plot and find the best max_depth\n",
    "\n",
    "# Plot a max_depth vs MSE using a simple for loop\n",
    "\n",
    "# record beginning time\n",
    "start = time.time()\n",
    "\n",
    "param = 'max_depth'  \n",
    "\n",
    "parameter_list = range(2,18)      \n",
    "\n",
    "MSEs = []\n",
    "\n",
    "for d in tqdm(parameter_list):\n",
    "\n",
    "    MSEs.append( run_decision_tree_regressor(X_train,y_train,\n",
    "                                             max_depth = d,                      \n",
    "                                             max_features=None,\n",
    "                                             min_samples_split=2,\n",
    "                                             min_samples_leaf=1,\n",
    "                                             max_leaf_nodes=None,    \n",
    "                                             criterion='squared_error',\n",
    "                                             ccp_alpha=0.0,\n",
    "                                             random_state=random_state,\n",
    "                                             n_jobs= -1,\n",
    "                                             visualize=False\n",
    "                                            ) ) \n",
    "     \n",
    "\n",
    "# Find the minimum value\n",
    "min_MSE = min(MSEs)\n",
    "\n",
    "# Find the index of the minimum value\n",
    "min_index = MSEs.index(min_MSE)\n",
    "\n",
    "plt.figure(figsize=(6, 4))\n",
    "plt.title(\"Decision Tree Regressor: MSE vs \"+param)\n",
    "plt.plot(parameter_list, MSEs, marker='.')\n",
    "plt.scatter([parameter_list[min_index]],[min_MSE],marker='x',color='red')\n",
    "plt.xlabel(param)\n",
    "plt.ylabel(\"MSE\")\n",
    "plt.gca().yaxis.set_major_formatter(mticker.FuncFormatter(dollar_format))\n",
    "plt.grid()\n",
    "plt.show()\n",
    "\n",
    "if isinstance(parameter_list[min_index], int):\n",
    "    print(f\"Minimum MSE {min_MSE:.4f} found at x = {parameter_list[min_index]}\")\n",
    "else:\n",
    "    print(f\"Minimum MSE {min_MSE:.4f} found at x = {parameter_list[min_index]:.4f}\")\n",
    "\n",
    "# Record end time and execution time\n",
    "end = time.time()\n",
    "print(f\"Execution Time: \" + format_time(end-start))\n",
    "\n"
   ]
  },
  {
   "cell_type": "code",
   "execution_count": 7,
   "metadata": {},
   "outputs": [
    {
     "name": "stdout",
     "output_type": "stream",
     "text": [
      "1360873230.851126\n",
      "bestmin_rmse 36890.01532733656\n",
      "6\n"
     ]
    }
   ],
   "source": [
    "print(min_MSE)\n",
    "bestmin_rmse1_b = np.sqrt(min_MSE)\n",
    "print(\"bestmin_rmse\", bestmin_rmse1_b)\n",
    "print(parameter_list[min_index])"
   ]
  },
  {
   "cell_type": "markdown",
   "metadata": {},
   "source": [
    "### Problem 1.B Graded Answer"
   ]
  },
  {
   "cell_type": "code",
   "execution_count": 8,
   "metadata": {},
   "outputs": [
    {
     "name": "stdout",
     "output_type": "stream",
     "text": [
      "a1b = 6\n"
     ]
    }
   ],
   "source": [
    "# TODO:  Set the variable to the depth found which results in the lowest CV RMSE score\n",
    "\n",
    "a1b = 6           \n",
    "\n",
    "print(f'a1b = {a1b}')"
   ]
  },
  {
   "cell_type": "markdown",
   "metadata": {},
   "source": [
    "### Part 1.C\n",
    "\n",
    "Now, perform the same experiment as in Part 1.B—but this time, focus on tuning the `max_leaf_nodes` parameter.\n",
    "\n",
    "**Notes:**\n",
    "\n",
    "- Ensure that `max_depth` is set to `None` so that you can isolate the effect of `max_leaf_nodes` on limiting the size of the tree.\n",
    "- The range of values for `max_leaf_nodes` will differ considerably from that used for `max_depth`. Experiment with a wide range until you find a minimum that does not occur at either end of your tested interval.\n",
    "\n",
    "Remember to apply the same modifications as in Part 1.B, including updating your plot labels and printout to reflect that the metric is reported in dollars (using the line below to format the y-axis):\n",
    "\n",
    "```python\n",
    "plt.gca().yaxis.set_major_formatter(mticker.FuncFormatter(dollar_format))\n",
    "```\n",
    "\n",
    "After generating your plot and results, provide your answer for the graded question."
   ]
  },
  {
   "cell_type": "code",
   "execution_count": 9,
   "metadata": {},
   "outputs": [
    {
     "name": "stderr",
     "output_type": "stream",
     "text": [
      "100%|██████████| 40/40 [00:08<00:00,  4.54it/s]\n"
     ]
    },
    {
     "data": {
      "image/png": "[encoded data removed]",
      "text/plain": [
       "<Figure size 600x400 with 1 Axes>"
      ]
     },
     "metadata": {},
     "output_type": "display_data"
    },
    {
     "name": "stdout",
     "output_type": "stream",
     "text": [
      "Minimum MSE 1370161231.9031 found at x = 85\n",
      "Execution Time: 8.86s\n"
     ]
    }
   ],
   "source": [
    "# Your code here\n",
    "\n",
    "# Cut and paste the code from the video notebook to plot and find the best max_depth\n",
    "\n",
    "# Plot a max_depth vs MSE using a simple for loop\n",
    "\n",
    "# record beginning time\n",
    "start = time.time()\n",
    "\n",
    "param = 'max_leaf_nodes'  \n",
    "\n",
    "parameter_list = range(5,201, 5)      \n",
    "\n",
    "MSEs = []\n",
    "\n",
    "for d in tqdm(parameter_list):\n",
    "\n",
    "    MSEs.append( run_decision_tree_regressor(X_train,y_train,\n",
    "                                             max_depth = None,                      \n",
    "                                             max_features=None,\n",
    "                                             min_samples_split=2,\n",
    "                                             min_samples_leaf=1,\n",
    "                                             max_leaf_nodes=d,    \n",
    "                                             criterion='squared_error',\n",
    "                                             ccp_alpha=0.0,\n",
    "                                             random_state=random_state,\n",
    "                                             n_jobs= -1,\n",
    "                                             visualize=False\n",
    "                                            ) ) \n",
    "     \n",
    "\n",
    "# Find the minimum value\n",
    "min_MSE = min(MSEs)\n",
    "\n",
    "# Find the index of the minimum value\n",
    "min_index = MSEs.index(min_MSE)\n",
    "\n",
    "\n",
    "plt.figure(figsize=(6, 4))\n",
    "plt.title(\"Decision Tree Regressor: MSE vs \"+param)\n",
    "plt.plot(parameter_list, MSEs, marker='.')\n",
    "plt.scatter([parameter_list[min_index]],[min_MSE],marker='x',color='red')\n",
    "plt.xlabel(param)\n",
    "plt.ylabel(\"MSE\")\n",
    "plt.gca().yaxis.set_major_formatter(mticker.FuncFormatter(dollar_format))\n",
    "plt.grid()\n",
    "plt.show()\n",
    "\n",
    "if isinstance(parameter_list[min_index], int):\n",
    "    print(f\"Minimum MSE {min_MSE:.4f} found at x = {parameter_list[min_index]}\")\n",
    "else:\n",
    "    print(f\"Minimum MSE {min_MSE:.4f} found at x = {parameter_list[min_index]:.4f}\")\n",
    "\n",
    "# Record end time and execution time\n",
    "end = time.time()\n",
    "print(f\"Execution Time: \" + format_time(end-start))\n",
    "\n"
   ]
  },
  {
   "cell_type": "code",
   "execution_count": 10,
   "metadata": {},
   "outputs": [
    {
     "name": "stdout",
     "output_type": "stream",
     "text": [
      "1370161231.9030998\n",
      "bestmin_rmse 37015.68899673623\n"
     ]
    }
   ],
   "source": [
    "print(min_MSE)\n",
    "bestmin_rmse = np.sqrt(min_MSE)\n",
    "print(\"bestmin_rmse\", bestmin_rmse)"
   ]
  },
  {
   "cell_type": "markdown",
   "metadata": {},
   "source": [
    "### Problem 1.C Graded Answer"
   ]
  },
  {
   "cell_type": "code",
   "execution_count": 11,
   "metadata": {},
   "outputs": [
    {
     "name": "stdout",
     "output_type": "stream",
     "text": [
      "a1c = 1\n"
     ]
    }
   ],
   "source": [
    "# TODO:  Which method provided the best CV score?\n",
    "\n",
    "a1c =  1                                      # Answer should be 1 = max_depth or 2 = max_leaf_nodes                                        \n",
    "\n",
    "print(f'a1c = {a1c}')"
   ]
  },
  {
   "cell_type": "markdown",
   "metadata": {},
   "source": [
    "### Part 1.D\n",
    "\n",
    "Limiting the size of a decision tree using `max_depth` (depth) and `max_leaf_nodes` (width) affects the model in different ways. A natural question arises: is there a combination of these two parameters that yields a better score than tuning either one alone?\n",
    "\n",
    "Because the tradeoff between depth and width might not be clearly captured in a 2D plot, we'll use `GridSearchCV` to systematically explore combinations of values.\n",
    "\n",
    "**What to Do:**\n",
    "\n",
    "- In the next cell, write code that uses `GridSearchCV` to search over a grid of values for both max_depth and max_leaf_nodes.\n",
    "- Use the ranges you explored in Parts 1.B and 1.C, but also include `None` (e.g., `[None] + list(range(2, 18))`) to test whether the default setting is optimal.\n",
    "- This grid search may take a while to run, depending on your computing resources.\n",
    "- After the grid search completes, print out the top 10 results. These results will automatically include the MSE and RMSE scores.\n",
    "- Finally, display the top 10 parameter pairs (combinations of `max_depth` and `max_leaf_nodes`) that produced the best scores.\n",
    "\n",
    "**NOTE: Make sure you use `RepeatedKFold` for all experiments going forward, unless instructed otherwise.** \n",
    "\n",
    "Before you start, please review the `GridSearchCV` documentation if you haven't already done so. "
   ]
  },
  {
   "cell_type": "code",
   "execution_count": 12,
   "metadata": {},
   "outputs": [
    {
     "name": "stdout",
     "output_type": "stream",
     "text": [
      "\n",
      "Search Results (Top 10):\n",
      "\n",
      "max_depth  mean_test_score  std_cv_score  mean_train_score  std_train_score  mean_cv_score  mean_train_rmse\n",
      "        7     1.155470e+09  2.092287e+08      4.175529e+08     2.212661e+07   33992.200228     20434.110471\n",
      "        6     1.156078e+09  1.770716e+08      5.999923e+08     3.931092e+07   34001.146768     24494.740064\n",
      "        7     1.159713e+09  2.073669e+08      4.155541e+08     2.131644e+07   34054.564349     20385.144121\n",
      "        8     1.164778e+09  1.871454e+08      3.564608e+08     1.923919e+07   34128.840806     18880.170491\n",
      "       14     1.174103e+09  1.994163e+08      3.398534e+08     1.609881e+07   34265.193282     18435.112849\n",
      "       16     1.174103e+09  1.994163e+08      3.398534e+08     1.609881e+07   34265.193282     18435.112849\n",
      "       11     1.174103e+09  1.994163e+08      3.398534e+08     1.609881e+07   34265.193282     18435.112849\n",
      "     None     1.174103e+09  1.994163e+08      3.398534e+08     1.609881e+07   34265.193282     18435.112849\n",
      "       12     1.174103e+09  1.994163e+08      3.398534e+08     1.609881e+07   34265.193282     18435.112849\n",
      "       15     1.174103e+09  1.994163e+08      3.398534e+08     1.609881e+07   34265.193282     18435.112849\n",
      "\n",
      "Best Parameters: {'max_depth': 7, 'max_leaf_nodes': 100}\n",
      "Best CV MSE: 1155469676.3546\n",
      "Best RMSE: 33992.2002\n",
      "Test MSE:    1073918099.5690\n",
      "Execution Time: 9.92s\n"
     ]
    }
   ],
   "source": [
    "# Your code here\n",
    "start_time = time.time() \n",
    "\n",
    "#define parameter grid for GridSearchCV\n",
    "param_grid = {\n",
    "    'max_depth' : [None] + list(range(2,18)),\n",
    "    'max_leaf_nodes' : [None, 5, 10, 20, 50, 100, 200]\n",
    "\n",
    "}\n",
    "#defin the model\n",
    "tree = DecisionTreeRegressor(random_state=random_state)\n",
    "\n",
    "#RepeatedKFolk cross-validation\n",
    "cv = RepeatedKFold(n_splits=10, n_repeats=3, random_state=42)\n",
    "\n",
    "\n",
    "#perform GridSearchCV\n",
    "grid_search = GridSearchCV(\n",
    "    estimator=tree, \n",
    "    param_grid=param_grid, \n",
    "    scoring='neg_mean_squared_error', \n",
    "    cv=5, #five fold cross validation\n",
    "    n_jobs=-1,\n",
    "    return_train_score=True\n",
    ")\n",
    "\n",
    "grid_search.fit(X_train, y_train)\n",
    "#results \n",
    "\n",
    "\n",
    "results = pd.DataFrame(grid_search.cv_results_)\n",
    "\n",
    "# Select relevant columns for readability\n",
    "results = results[[\n",
    "    'param_max_depth',\n",
    "    'mean_test_score',\n",
    "    'std_test_score',\n",
    "    'mean_train_score',  # Include training score\n",
    "    'std_train_score',   # Include standard deviation of training score\n",
    "    'rank_test_score'\n",
    "]]\n",
    "\n",
    "# Convert negative MSE to positive\n",
    "results['mean_test_score'] = -results['mean_test_score']\n",
    "results['mean_train_score'] = -results['mean_train_score']\n",
    "#mse to rmse\n",
    "results['mean_test_rmse'] = np.sqrt(results['mean_test_score'])\n",
    "results['mean_train_rmse'] = np.sqrt(results['mean_train_score'])\n",
    "\n",
    "\n",
    "# Sort by rank (best scores first)\n",
    "results = results.sort_values(by='mean_test_rmse')\n",
    "\n",
    "# Rename columns for printing only\n",
    "renamed_results = results.rename(\n",
    "    columns={\n",
    "        'param_max_depth': 'max_depth',\n",
    "        'mean_test_rmse': 'mean_cv_score',\n",
    "        'std_test_score': 'std_cv_score',\n",
    "        'mean_train_rmse': 'mean_train_rmse',\n",
    "        'std_train_score': 'std_train_score'\n",
    "    }\n",
    ").drop(columns=['rank_test_score'])  # Drop the rank column for readability\n",
    "\n",
    "# Print the results as a table\n",
    "print(\"\\nSearch Results (Top 10):\\n\")\n",
    "print(renamed_results.head(10).to_string(index=False))  # Show the top 10 results with new headers\n",
    "\n",
    "# Best parameters and test performance\n",
    "best_parameters = grid_search.best_params_\n",
    "best_rmse_gs = np.sqrt(-grid_search.best_score_)\n",
    "\n",
    "print(f\"\\nBest Parameters: {best_parameters}\")\n",
    "print(f\"Best CV MSE: {-grid_search.best_score_:.4f}\")\n",
    "print(f\"Best RMSE: {best_rmse_gs:.4f}\")\n",
    "\n",
    "\n",
    "# Evaluate on the test set\n",
    "y_pred_bagging = grid_search.best_estimator_.predict(X_test)\n",
    "test_mse = mean_squared_error(y_test, y_pred_bagging)\n",
    "\n",
    "\n",
    "print(f\"Test MSE:    {test_mse:.4f}\")\n",
    "\n",
    "# Record end time and execution time\n",
    "end = time.time()\n",
    "print(f\"Execution Time: \" + format_time(end-start))\n",
    "\n"
   ]
  },
  {
   "cell_type": "code",
   "execution_count": 13,
   "metadata": {},
   "outputs": [
    {
     "name": "stdout",
     "output_type": "stream",
     "text": [
      "best_score_rmse = $33,992.20\n"
     ]
    }
   ],
   "source": [
    "best_score = grid_search.best_score_\n",
    "best_score_mse = -best_score\n",
    "best_score_rmse = np.sqrt(best_score_mse)\n",
    "print(f'best_score_rmse = ${best_score_rmse:,.2f}')"
   ]
  },
  {
   "cell_type": "markdown",
   "metadata": {},
   "source": [
    "### Problem 1.D Graded Answer"
   ]
  },
  {
   "cell_type": "code",
   "execution_count": 14,
   "metadata": {},
   "outputs": [
    {
     "name": "stdout",
     "output_type": "stream",
     "text": [
      "a1d = $33,992.20\n"
     ]
    }
   ],
   "source": [
    "# TODO:  One of these three experiments determined which parameter choices results in the best (lowest) CV RMSE score\n",
    "#        Set the variable to this best score found so far\n",
    "\n",
    "a1d = best_score_rmse                 # Just to get it to run without error; your answer here                                                                                  \n",
    "\n",
    "print(f'a1d = ${a1d:,.2f}')"
   ]
  },
  {
   "cell_type": "markdown",
   "metadata": {},
   "source": [
    "## Problem Two: Adding Feature Selection and Randomness with max_features\n",
    "\n",
    "In this problem, you will build on the best model from Problem One by exploring the effect of the `max_features` parameter. This parameter does two key things:\n",
    "\n",
    "- It performs variable selection at the level of each split by considering only a subset of features (we will revisit this idea in Week 9).\n",
    "- It randomly chooses this subset at each split, encouraging the model to explore different parts of the feature space. This randomness can improve performance, especially when used with ensemble methods (which we will study next week).\n",
    "\n",
    "What to Do:\n",
    "\n",
    "- Use the best model from Problem One and vary only the `max_features` parameter.\n",
    "- Experiment with a range of values from 1 up to the total number of features in the dataset.\n",
    "- Print out the plot and the results, and answer the graded question as usual.\n",
    "- Do not use `GridSearchCV` for this problem.\n",
    "- Do not reset all parameters to their defaults; keep the best settings from Problem One and only change `max_features`."
   ]
  },
  {
   "cell_type": "code",
   "execution_count": 15,
   "metadata": {},
   "outputs": [
    {
     "name": "stdout",
     "output_type": "stream",
     "text": [
      "Execution Time: 24.25s\n",
      "max features = 1, rmse = $56134.74\n",
      "max features = 2, rmse = $53345.27\n",
      "max features = 3, rmse = $47492.21\n",
      "max features = 4, rmse = $43988.79\n",
      "max features = 5, rmse = $42044.34\n",
      "max features = 6, rmse = $44598.75\n",
      "max features = 7, rmse = $41696.90\n",
      "max features = 8, rmse = $42446.86\n",
      "max features = 9, rmse = $40123.81\n",
      "max features = 10, rmse = $40798.23\n",
      "max features = 11, rmse = $40735.17\n",
      "max features = 12, rmse = $41623.92\n",
      "max features = 13, rmse = $38309.53\n",
      "max features = 14, rmse = $41502.87\n",
      "max features = 15, rmse = $38378.69\n",
      "max features = 16, rmse = $38781.84\n",
      "max features = 17, rmse = $38284.83\n",
      "max features = 18, rmse = $40425.96\n",
      "max features = 19, rmse = $38142.99\n",
      "max features = 20, rmse = $38850.85\n",
      "max features = 21, rmse = $39180.09\n",
      "max features = 22, rmse = $40084.52\n",
      "max features = 23, rmse = $38196.54\n",
      "max features = 24, rmse = $37878.65\n",
      "max features = 25, rmse = $37731.70\n",
      "max features = 26, rmse = $36911.19\n",
      "max features = 27, rmse = $37085.60\n",
      "max features = 28, rmse = $37614.83\n",
      "max features = 29, rmse = $37394.75\n",
      "max features = 30, rmse = $39210.76\n",
      "max features = 31, rmse = $37080.97\n",
      "max features = 32, rmse = $36116.69\n",
      "max features = 33, rmse = $36528.21\n",
      "max features = 34, rmse = $37200.52\n",
      "max features = 35, rmse = $36276.22\n",
      "max features = 36, rmse = $36426.41\n",
      "max features = 37, rmse = $37620.18\n",
      "max features = 38, rmse = $36608.14\n",
      "max features = 39, rmse = $36171.75\n",
      "max features = 40, rmse = $36247.27\n",
      "max features = 41, rmse = $37395.67\n",
      "max features = 42, rmse = $36132.61\n",
      "max features = 43, rmse = $36844.09\n",
      "max features = 44, rmse = $36238.32\n",
      "max features = 45, rmse = $36208.56\n",
      "max features = 46, rmse = $36699.50\n",
      "max features = 47, rmse = $37994.14\n",
      "max features = 48, rmse = $36176.67\n",
      "max features = 49, rmse = $35781.17\n",
      "max features = 50, rmse = $36130.37\n",
      "max features = 51, rmse = $34715.34\n",
      "max features = 52, rmse = $36457.62\n",
      "max features = 53, rmse = $35848.70\n",
      "max features = 54, rmse = $36294.71\n",
      "max features = 55, rmse = $36715.01\n",
      "max features = 56, rmse = $36543.15\n",
      "max features = 57, rmse = $37879.77\n",
      "max features = 58, rmse = $37141.92\n",
      "max features = 59, rmse = $36168.19\n",
      "max features = 60, rmse = $36521.87\n",
      "max features = 61, rmse = $35936.15\n",
      "max features = 62, rmse = $36721.31\n",
      "max features = 63, rmse = $35232.31\n",
      "max features = 64, rmse = $37127.12\n",
      "max features = 65, rmse = $34923.23\n",
      "max features = 66, rmse = $35922.95\n",
      "max features = 67, rmse = $35361.43\n",
      "max features = 68, rmse = $35494.38\n",
      "max features = 69, rmse = $34753.45\n",
      "max features = 70, rmse = $35517.98\n",
      "max features = 71, rmse = $34882.90\n",
      "max features = 72, rmse = $35533.99\n",
      "max features = 73, rmse = $35307.68\n",
      "(\n",
      "Best Featuure = 51 RMSE = $34,715.34\n"
     ]
    }
   ],
   "source": [
    "# Your code here\n",
    "start_time = time.time()\n",
    "\n",
    "best_max_depth = 6 \n",
    "best_max_leaf_node = 50 \n",
    "\n",
    "#repeatedKfold\n",
    "\n",
    "#RepeatedKFolk cross-validation\n",
    "cv = RepeatedKFold(n_splits=10, n_repeats=3, random_state=42)\n",
    "\n",
    "max_features_values = list(range(1, X_train.shape[1]+1))\n",
    "\n",
    "rmse_value_max_features = [] #list of RMSE values for each max features\n",
    "\n",
    "for mfv in max_features_values:\n",
    "     \n",
    "    tree_model = DecisionTreeRegressor(\n",
    "                             max_depth = best_max_depth,                      \n",
    "                             max_features=mfv,\n",
    "                             max_leaf_nodes=best_max_leaf_node, \n",
    "                             random_state=42\n",
    "    )\n",
    "    \n",
    "    negative_rmse = cross_val_score(tree_model, \n",
    "                                    X_train, \n",
    "                                    y_train, \n",
    "                                    cv=cv,\n",
    "                                    scoring='neg_root_mean_squared_error')\n",
    "\n",
    "\n",
    "    #Calculate RMSE\n",
    "    rmse = -negative_rmse.mean()\n",
    "    \n",
    "\n",
    "    rmse_value_max_features.append(rmse)\n",
    "\n",
    "# Record end time and execution time\n",
    "end = time.time()\n",
    "print(f\"Execution Time: \" + format_time(end-start))\n",
    "\n",
    "min_rmse = float('inf')\n",
    "best_feature = None\n",
    "for mfv, rmse in zip(max_features_values, rmse_value_max_features):\n",
    "    print(f\"max features = {mfv}, rmse = ${rmse:.2f}\")\n",
    "    if rmse < min_rmse:\n",
    "        min_rmse = rmse\n",
    "        best_feature = mfv\n",
    "\n",
    "print(f\"(\\nBest Featuure = {best_feature} RMSE = ${min_rmse:,.2f}\")\n",
    "\n",
    "\n"
   ]
  },
  {
   "cell_type": "code",
   "execution_count": 16,
   "metadata": {},
   "outputs": [
    {
     "data": {
      "image/png": "[encoded data removed]",
      "text/plain": [
       "<Figure size 1000x600 with 1 Axes>"
      ]
     },
     "metadata": {},
     "output_type": "display_data"
    }
   ],
   "source": [
    "min_index_features = rmse_value_max_features.index(min(rmse_value_max_features))\n",
    "min_rmse_features = rmse_value_max_features[min_index_features]\n",
    "min_max_feature = max_features_values[min_index_features]\n",
    "\n",
    "\n",
    "plt.figure(figsize=(10,6))\n",
    "plt.plot(max_features_values, rmse_value_max_features, marker='o')\n",
    "plt.scatter([min_max_feature],[min_rmse_features],marker='x',color='red', s=150)\n",
    "plt.xlabel(\"Max Features\")\n",
    "plt.ylabel(\"RMSE ($)\")\n",
    "plt.title('Max features vs RMSE for Desision Tree Regressor')\n",
    "plt.grid(True)\n",
    "plt.show()\n"
   ]
  },
  {
   "cell_type": "markdown",
   "metadata": {},
   "source": [
    "### Problem 2 Graded Answer"
   ]
  },
  {
   "cell_type": "code",
   "execution_count": 17,
   "metadata": {},
   "outputs": [
    {
     "name": "stdout",
     "output_type": "stream",
     "text": [
      "a2 = $34,715.34\n"
     ]
    }
   ],
   "source": [
    "# TODO:  This *should* have produced an improvement in the score. Assign the variable to this new, improved CV RMSE score\n",
    "\n",
    "a2 =  min_rmse_features                              # Just to get it to run without error; your answer here                                                                              \n",
    "\n",
    "print(f'a2 = ${a2:,.2f}')"
   ]
  },
  {
   "cell_type": "markdown",
   "metadata": {},
   "source": [
    "## Problem Three: Controlling Node Splitting with min_samples_split\n",
    "\n",
    "In this problem, you will investigate how the min_samples_split parameter affects your decision tree’s performance. Using the best model configuration obtained from Problems One and Two, vary only the `min_samples_split` parameter while keeping all other parameters fixed.\n",
    "\n",
    "**What to Do:**\n",
    "\n",
    "- As before, experiment with different values of `min_samples_split`, starting with a lower bound of 2.\n",
    "- Plot the CV RMSE against the different values of `min_samples_split` and print out your results.\n",
    "- Do not use `GridSearchCV` for this experiment.\n",
    "- Make sure that only the `min_samples_split` parameter is varied; all other parameters should remain at the best settings you’ve found so far.\n",
    "- Finally, answer the graded question based on your findings.\n",
    " "
   ]
  },
  {
   "cell_type": "code",
   "execution_count": 18,
   "metadata": {},
   "outputs": [
    {
     "name": "stdout",
     "output_type": "stream",
     "text": [
      "Execution Time: 37.21s\n",
      "min sample split = 2, rmse = $40556.91\n",
      "min sample split = 3, rmse = $40556.91\n",
      "min sample split = 4, rmse = $40556.91\n",
      "min sample split = 5, rmse = $40556.91\n",
      "min sample split = 6, rmse = $40556.91\n",
      "min sample split = 7, rmse = $40556.91\n",
      "min sample split = 8, rmse = $40556.91\n",
      "min sample split = 9, rmse = $40269.44\n",
      "min sample split = 10, rmse = $40275.76\n",
      "min sample split = 11, rmse = $40210.57\n",
      "min sample split = 12, rmse = $40164.33\n",
      "min sample split = 13, rmse = $40197.59\n",
      "min sample split = 14, rmse = $40140.84\n",
      "min sample split = 15, rmse = $40146.63\n",
      "min sample split = 16, rmse = $40293.36\n",
      "min sample split = 17, rmse = $40028.60\n",
      "min sample split = 18, rmse = $40319.91\n",
      "min sample split = 19, rmse = $40010.28\n",
      "min sample split = 20, rmse = $39995.63\n",
      "min sample split = 21, rmse = $39950.07\n",
      "min sample split = 22, rmse = $39952.25\n",
      "min sample split = 23, rmse = $39914.70\n",
      "min sample split = 24, rmse = $39898.30\n",
      "min sample split = 25, rmse = $39820.19\n",
      "min sample split = 26, rmse = $39579.43\n",
      "min sample split = 27, rmse = $39602.40\n",
      "min sample split = 28, rmse = $39826.07\n",
      "min sample split = 29, rmse = $39729.02\n",
      "min sample split = 30, rmse = $39648.24\n",
      "min sample split = 31, rmse = $39707.91\n",
      "min sample split = 32, rmse = $39672.26\n",
      "min sample split = 33, rmse = $39629.95\n",
      "min sample split = 34, rmse = $39583.05\n",
      "min sample split = 35, rmse = $39603.84\n",
      "min sample split = 36, rmse = $39490.73\n",
      "min sample split = 37, rmse = $39329.28\n",
      "min sample split = 38, rmse = $39363.28\n",
      "min sample split = 39, rmse = $39490.65\n",
      "min sample split = 40, rmse = $39652.58\n",
      "min sample split = 41, rmse = $39671.23\n",
      "min sample split = 42, rmse = $39820.44\n",
      "min sample split = 43, rmse = $39855.54\n",
      "min sample split = 44, rmse = $39851.75\n",
      "min sample split = 45, rmse = $40132.18\n",
      "min sample split = 46, rmse = $40183.42\n",
      "min sample split = 47, rmse = $40485.78\n",
      "min sample split = 48, rmse = $40410.30\n",
      "min sample split = 49, rmse = $40547.27\n",
      "min sample split = 50, rmse = $40652.35\n",
      "min sample split = 51, rmse = $40569.60\n",
      "min sample split = 52, rmse = $40540.69\n",
      "min sample split = 53, rmse = $40508.85\n",
      "min sample split = 54, rmse = $40462.02\n",
      "min sample split = 55, rmse = $40513.10\n",
      "min sample split = 56, rmse = $40596.89\n",
      "min sample split = 57, rmse = $40710.02\n",
      "min sample split = 58, rmse = $40778.75\n",
      "min sample split = 59, rmse = $40732.69\n",
      "min sample split = 60, rmse = $40903.88\n",
      "min sample split = 61, rmse = $41024.84\n",
      "min sample split = 62, rmse = $40915.62\n",
      "min sample split = 63, rmse = $41074.10\n",
      "min sample split = 64, rmse = $41074.77\n",
      "min sample split = 65, rmse = $41041.93\n",
      "min sample split = 66, rmse = $40996.81\n",
      "min sample split = 67, rmse = $40968.41\n",
      "min sample split = 68, rmse = $40966.97\n",
      "min sample split = 69, rmse = $41042.55\n",
      "min sample split = 70, rmse = $41027.89\n",
      "min sample split = 71, rmse = $40887.61\n",
      "min sample split = 72, rmse = $40850.92\n",
      "min sample split = 73, rmse = $40838.23\n",
      "min sample split = 74, rmse = $40970.68\n",
      "min sample split = 75, rmse = $41023.19\n",
      "min sample split = 76, rmse = $41193.18\n",
      "min sample split = 77, rmse = $41309.99\n",
      "min sample split = 78, rmse = $41385.34\n",
      "min sample split = 79, rmse = $41545.43\n",
      "min sample split = 80, rmse = $41902.90\n",
      "min sample split = 81, rmse = $41983.66\n",
      "min sample split = 82, rmse = $42013.99\n",
      "min sample split = 83, rmse = $42010.88\n",
      "min sample split = 84, rmse = $41943.97\n",
      "min sample split = 85, rmse = $42048.94\n",
      "min sample split = 86, rmse = $42018.87\n",
      "min sample split = 87, rmse = $41968.26\n",
      "min sample split = 88, rmse = $41999.18\n",
      "min sample split = 89, rmse = $42012.46\n",
      "min sample split = 90, rmse = $42007.80\n",
      "min sample split = 91, rmse = $42425.86\n",
      "min sample split = 92, rmse = $42404.83\n",
      "min sample split = 93, rmse = $42478.01\n",
      "min sample split = 94, rmse = $42829.36\n",
      "min sample split = 95, rmse = $42836.76\n",
      "min sample split = 96, rmse = $43093.88\n",
      "min sample split = 97, rmse = $43082.75\n",
      "min sample split = 98, rmse = $43091.49\n",
      "min sample split = 99, rmse = $43133.58\n",
      "min sample split = 100, rmse = $43080.04\n",
      "min sample split = 101, rmse = $43077.63\n",
      "min sample split = 102, rmse = $43110.31\n",
      "min sample split = 103, rmse = $43246.41\n",
      "min sample split = 104, rmse = $43326.69\n",
      "min sample split = 105, rmse = $43384.47\n",
      "min sample split = 106, rmse = $43318.40\n",
      "min sample split = 107, rmse = $43340.00\n",
      "min sample split = 108, rmse = $43305.23\n",
      "min sample split = 109, rmse = $43344.37\n",
      "min sample split = 110, rmse = $43296.97\n",
      "min sample split = 111, rmse = $43293.14\n",
      "min sample split = 112, rmse = $43311.12\n",
      "min sample split = 113, rmse = $43224.88\n",
      "min sample split = 114, rmse = $43217.24\n",
      "min sample split = 115, rmse = $43228.80\n",
      "min sample split = 116, rmse = $43237.41\n",
      "min sample split = 117, rmse = $43275.95\n",
      "min sample split = 118, rmse = $43269.13\n",
      "min sample split = 119, rmse = $43178.60\n",
      "min sample split = 120, rmse = $43134.12\n",
      "min sample split = 121, rmse = $43145.93\n",
      "min sample split = 122, rmse = $43207.20\n",
      "min sample split = 123, rmse = $43312.19\n",
      "min sample split = 124, rmse = $43364.07\n",
      "min sample split = 125, rmse = $43404.33\n",
      "min sample split = 126, rmse = $43534.55\n",
      "min sample split = 127, rmse = $43637.05\n",
      "min sample split = 128, rmse = $43726.31\n",
      "min sample split = 129, rmse = $43734.10\n",
      "min sample split = 130, rmse = $43918.30\n",
      "min sample split = 131, rmse = $43941.63\n",
      "min sample split = 132, rmse = $43905.90\n",
      "min sample split = 133, rmse = $44014.29\n",
      "min sample split = 134, rmse = $44034.77\n",
      "min sample split = 135, rmse = $44041.03\n",
      "min sample split = 136, rmse = $44103.50\n",
      "min sample split = 137, rmse = $44103.50\n",
      "min sample split = 138, rmse = $44150.27\n",
      "min sample split = 139, rmse = $44150.27\n",
      "min sample split = 140, rmse = $44207.45\n",
      "min sample split = 141, rmse = $44150.81\n",
      "min sample split = 142, rmse = $44150.81\n",
      "min sample split = 143, rmse = $44050.40\n",
      "min sample split = 144, rmse = $44041.48\n",
      "min sample split = 145, rmse = $44147.01\n",
      "min sample split = 146, rmse = $44133.19\n",
      "min sample split = 147, rmse = $44420.60\n",
      "min sample split = 148, rmse = $44495.98\n",
      "min sample split = 149, rmse = $44545.06\n",
      "min sample split = 150, rmse = $44664.07\n",
      "min sample split = 151, rmse = $44823.47\n",
      "min sample split = 152, rmse = $44912.53\n",
      "min sample split = 153, rmse = $44903.47\n",
      "min sample split = 154, rmse = $44903.47\n",
      "min sample split = 155, rmse = $45053.35\n",
      "min sample split = 156, rmse = $45114.90\n",
      "min sample split = 157, rmse = $45125.66\n",
      "min sample split = 158, rmse = $45124.88\n",
      "min sample split = 159, rmse = $45142.49\n",
      "min sample split = 160, rmse = $45153.77\n",
      "min sample split = 161, rmse = $45154.61\n",
      "min sample split = 162, rmse = $45153.88\n",
      "min sample split = 163, rmse = $45144.43\n",
      "min sample split = 164, rmse = $45145.88\n",
      "min sample split = 165, rmse = $45116.39\n",
      "min sample split = 166, rmse = $45096.23\n",
      "min sample split = 167, rmse = $45118.94\n",
      "min sample split = 168, rmse = $45175.63\n",
      "min sample split = 169, rmse = $45209.43\n",
      "min sample split = 170, rmse = $45254.70\n",
      "min sample split = 171, rmse = $45283.55\n",
      "min sample split = 172, rmse = $45293.95\n",
      "min sample split = 173, rmse = $45285.69\n",
      "min sample split = 174, rmse = $45354.07\n",
      "min sample split = 175, rmse = $45392.28\n",
      "min sample split = 176, rmse = $45392.28\n",
      "min sample split = 177, rmse = $45368.89\n",
      "min sample split = 178, rmse = $45378.52\n",
      "min sample split = 179, rmse = $45497.09\n",
      "min sample split = 180, rmse = $45547.06\n",
      "min sample split = 181, rmse = $45547.06\n",
      "min sample split = 182, rmse = $45557.87\n",
      "min sample split = 183, rmse = $45557.87\n",
      "min sample split = 184, rmse = $45584.38\n",
      "min sample split = 185, rmse = $45584.38\n",
      "min sample split = 186, rmse = $45623.08\n",
      "min sample split = 187, rmse = $45614.05\n",
      "min sample split = 188, rmse = $45621.93\n",
      "min sample split = 189, rmse = $45662.92\n",
      "min sample split = 190, rmse = $45710.41\n",
      "min sample split = 191, rmse = $45710.53\n",
      "min sample split = 192, rmse = $45717.19\n",
      "min sample split = 193, rmse = $45710.48\n",
      "min sample split = 194, rmse = $45710.48\n",
      "min sample split = 195, rmse = $45709.36\n",
      "min sample split = 196, rmse = $45718.92\n",
      "min sample split = 197, rmse = $45726.14\n",
      "min sample split = 198, rmse = $45726.14\n",
      "min sample split = 199, rmse = $45721.28\n",
      "min sample split = 200, rmse = $45732.12\n",
      "(\n",
      "Min_samples_split_value = 37 RMSE = $39,329.28\n"
     ]
    }
   ],
   "source": [
    "# Your code here\n",
    "start_time = time.time()\n",
    "\n",
    "best_max_depth = 6\n",
    "best_max_leaf_node = 50\n",
    "best_min_samples_leaf = 4\n",
    "best_max_features = 5\n",
    "\n",
    "\n",
    "#RepeatedKFolk cross-validation\n",
    "cv = RepeatedKFold(n_splits=10, n_repeats=3, random_state=42)\n",
    "\n",
    "min_samples_split_values = np.arange(2, 201)\n",
    "\n",
    "rmse_values_min_split = []\n",
    "\n",
    "for mss in min_samples_split_values:\n",
    "    tree_model = DecisionTreeRegressor(\n",
    "                            max_depth = best_max_depth,  \n",
    "                            max_leaf_nodes=best_max_leaf_node,     \n",
    "                            max_features=best_max_features,\n",
    "                            min_samples_leaf= best_min_samples_leaf,\n",
    "                            min_samples_split= mss,\n",
    "                            random_state=42\n",
    "    )\n",
    "    \n",
    "    negative_rmse = cross_val_score(tree_model, \n",
    "                                    X_train, \n",
    "                                    y_train, \n",
    "                                    cv=cv,\n",
    "                                    scoring='neg_root_mean_squared_error')\n",
    "    \n",
    "    #Calculate RMSE\n",
    "    rmse = -negative_rmse.mean()\n",
    "    rmse_values_min_split.append(rmse)\n",
    "\n",
    "\n",
    "# Record end time and execution time\n",
    "end = time.time()\n",
    "print(f\"Execution Time: \" + format_time(end-start))\n",
    "\n",
    "\n",
    "min_rmse = float('inf')\n",
    "\n",
    "best_sample_split = None\n",
    "\n",
    "\n",
    "for mss, rmse in zip(min_samples_split_values, rmse_values_min_split):\n",
    "    print(f\"min sample split = {mss}, rmse = ${rmse:.2f}\")\n",
    "    if rmse < min_rmse:\n",
    "        min_rmse = rmse\n",
    "        best_sample_split = mss\n",
    "\n",
    "print(f\"(\\nMin_samples_split_value = {best_sample_split} RMSE = ${min_rmse:,.2f}\")\n",
    "\n",
    "\n",
    "\n",
    "\n"
   ]
  },
  {
   "cell_type": "code",
   "execution_count": 19,
   "metadata": {},
   "outputs": [
    {
     "name": "stdout",
     "output_type": "stream",
     "text": [
      "35\n",
      "39329.28037302524\n"
     ]
    }
   ],
   "source": [
    "min_index = rmse_values_min_split.index(min(rmse_values_min_split))\n",
    "min_rmse_split = rmse_values_min_split[min_index]\n",
    "min_split= min_samples_split_values[min_index]\n",
    "\n",
    "\n",
    "print(min_index)\n",
    "print(min_rmse)"
   ]
  },
  {
   "cell_type": "code",
   "execution_count": 20,
   "metadata": {},
   "outputs": [
    {
     "data": {
      "image/png": "[encoded data removed]",
      "text/plain": [
       "<Figure size 1000x600 with 1 Axes>"
      ]
     },
     "metadata": {},
     "output_type": "display_data"
    }
   ],
   "source": [
    "\n",
    "\n",
    "plt.figure(figsize=(10,6))\n",
    "plt.plot(min_samples_split_values, rmse_values_min_split, marker='o')\n",
    "plt.scatter([min_split],[min_rmse_split],marker='x',color='red', s=150)\n",
    "plt.xlabel(\"Min Sample Split\")\n",
    "plt.ylabel(\"RMSE ($)\")\n",
    "plt.title('Min Sample Split vs RMSE for Desision Tree Regressor')\n",
    "plt.grid(True)\n",
    "plt.show()\n"
   ]
  },
  {
   "cell_type": "markdown",
   "metadata": {},
   "source": [
    "### Problem 3 Graded Answer"
   ]
  },
  {
   "cell_type": "code",
   "execution_count": 21,
   "metadata": {},
   "outputs": [
    {
     "name": "stdout",
     "output_type": "stream",
     "text": [
      "a3 = $39,329.28\n"
     ]
    }
   ],
   "source": [
    "# TODO:  Assign the variable to this best CV RMSE score.\n",
    "\n",
    "a3 = min_rmse_split                               # Just to get it to run without error; your answer here                                                                               \n",
    "\n",
    "print(f'a3 = ${a3:,.2f}')"
   ]
  },
  {
   "attachments": {
    "290c722e-d32b-40fe-a11f-89abf2304b60.png": {
     "image/png": "[encoded data removed]"
    },
    "c7e9469b-0e74-4fbe-91b7-40b0c4b802e4.png": {
     "image/png": "[encoded data removed]"
    }
   },
   "cell_type": "markdown",
   "metadata": {},
   "source": [
    "## **Problem Four: Fine-Tuning Your Model**\n",
    "\n",
    "Now that we have a solid understanding of how our parameters influence model performance, it’s time to refine our search. Instead of testing large parameter ranges blindly, we will **use insights from previous experiments** to focus on the most promising values—balancing accuracy with computational efficiency.\n",
    "\n",
    "### **Our Strategy**\n",
    "Rather than searching the entire parameter space, we aim to **narrow down** our grid search to ranges where the optimal model is most likely to be found. The goal is to **eliminate unlikely parameter values** while still thoroughly exploring regions of uncertainty. Consider these two plots:\n",
    "\n",
    "\n",
    "![Screenshot 2025-02-21 at 4.32.59 PM.png](attachment:290c722e-d32b-40fe-a11f-89abf2304b60.png)\n",
    "\n",
    "\n",
    "![Screenshot 2025-02-21 at 4.33.12 PM.png](attachment:c7e9469b-0e74-4fbe-91b7-40b0c4b802e4.png)\n",
    "\n",
    "For example:\n",
    "- In the first plot, there is a clear performance plateau, so searching outside the highlighted range is likely unnecessary.\n",
    "- In the second plot, the best region is less obvious, so we could not eliminate any part of the space from consideration. \n",
    "\n",
    "### **What to Do**\n",
    "- Using insights from **Problems One through Three**, select **refined parameter ranges** for the three key parameters.\n",
    "- Perform a **grid search** over these restricted ranges.\n",
    "- Print out the **top 10 results** as before. \n",
    "- Summarize your findings and answer the graded questions.\n"
   ]
  },
  {
   "cell_type": "code",
   "execution_count": 22,
   "metadata": {},
   "outputs": [
    {
     "name": "stdout",
     "output_type": "stream",
     "text": [
      "\n",
      "Search Results (Top 10):\n",
      "\n",
      "max_depth  mean_test_score  std_cv_score  mean_train_score  std_train_score  mean_cv_score  mean_train_rmse\n",
      "        7     1.155470e+09  2.092287e+08      4.175529e+08     2.212661e+07   33992.200228     20434.110471\n",
      "        6     1.156078e+09  1.770716e+08      5.999923e+08     3.931092e+07   34001.146768     24494.740064\n",
      "        7     1.159713e+09  2.073669e+08      4.155541e+08     2.131644e+07   34054.564349     20385.144121\n",
      "        8     1.164778e+09  1.871454e+08      3.564608e+08     1.923919e+07   34128.840806     18880.170491\n",
      "       14     1.174103e+09  1.994163e+08      3.398534e+08     1.609881e+07   34265.193282     18435.112849\n",
      "       16     1.174103e+09  1.994163e+08      3.398534e+08     1.609881e+07   34265.193282     18435.112849\n",
      "       11     1.174103e+09  1.994163e+08      3.398534e+08     1.609881e+07   34265.193282     18435.112849\n",
      "     None     1.174103e+09  1.994163e+08      3.398534e+08     1.609881e+07   34265.193282     18435.112849\n",
      "       12     1.174103e+09  1.994163e+08      3.398534e+08     1.609881e+07   34265.193282     18435.112849\n",
      "       15     1.174103e+09  1.994163e+08      3.398534e+08     1.609881e+07   34265.193282     18435.112849\n",
      "\n",
      "Best Parameters: {'max_depth': 8, 'max_leaf_nodes': 80, 'min_samples_split': 5}\n",
      "Best CV MSE: 1131767702.3646\n",
      "Best RMSE: 33641.7553\n",
      "Execution Time: 42.55s\n"
     ]
    }
   ],
   "source": [
    "\n",
    "start_time = time.time()\n",
    "\n",
    "#define parameter grid for GridSearchCV\n",
    "param_grid = {\n",
    "    'max_depth':[4,5,6,7,8,9,10],  # Refined range for max_depth\n",
    "    'max_leaf_nodes': list(range(25, 101, 5)),  # Refined range for max_leaf_nodes\n",
    "    'min_samples_split': [2,5,10,25,50,60,75]  # Refined range for min_samples_leaf\n",
    "}\n",
    "\n",
    "#defin the model\n",
    "tree = DecisionTreeRegressor(random_state=random_state)\n",
    "\n",
    "#RepeatedKFolk cross-validation\n",
    "cv = RepeatedKFold(n_splits=10, n_repeats=3, random_state=42)\n",
    "\n",
    "#perform GridSearchCV\n",
    "grid_search = GridSearchCV(\n",
    "    estimator=tree, \n",
    "    param_grid=param_grid, \n",
    "    scoring='neg_mean_squared_error', \n",
    "    cv=5, #five fold cross validation\n",
    "    n_jobs=-1,\n",
    "    return_train_score=True\n",
    ")\n",
    "\n",
    "grid_search.fit(X_train, y_train)\n",
    "#results \n",
    "\n",
    "\n",
    "results = pd.DataFrame(grid_search.cv_results_)\n",
    "\n",
    "# Select relevant columns for readability\n",
    "results = results[[\n",
    "    'param_max_depth',\n",
    "    'mean_test_score',\n",
    "    'std_test_score',\n",
    "    'mean_train_score',  # Include training score\n",
    "    'std_train_score',   # Include standard deviation of training score\n",
    "    'rank_test_score'\n",
    "]]\n",
    "\n",
    "# Convert negative MSE to positive\n",
    "results['mean_test_score'] = -results['mean_test_score']\n",
    "results['mean_train_score'] = -results['mean_train_score']\n",
    "#mse to rmse\n",
    "results['mean_test_rmse'] = np.sqrt(results['mean_test_score'])\n",
    "results['mean_train_rmse'] = np.sqrt(results['mean_train_score'])\n",
    "\n",
    "\n",
    "# Sort by rank (rmse)\n",
    "\n",
    "results = results.sort_values(by='mean_test_rmse')\n",
    "top_10_params = grid_search.cv_results_['params']\n",
    "\n",
    "print(\"\\nSearch Results (Top 10):\\n\")\n",
    "print(renamed_results.head(10).to_string(index=False))  # Show the top 10 results with new headers\n",
    "\n",
    "# Best parameters and test performance\n",
    "best_parameters = grid_search.best_params_\n",
    "best_rmse_gs = np.sqrt(-grid_search.best_score_)\n",
    "\n",
    "print(f\"\\nBest Parameters: {best_parameters}\")\n",
    "print(f\"Best CV MSE: {-grid_search.best_score_:.4f}\")\n",
    "print(f\"Best RMSE: {best_rmse_gs:.4f}\")\n",
    "\n",
    "# Record end time and execution time\n",
    "end = time.time()\n",
    "print(f\"Execution Time: \" + format_time(end-start))\n"
   ]
  },
  {
   "cell_type": "markdown",
   "metadata": {},
   "source": [
    "### Problem 4 Graded Answers"
   ]
  },
  {
   "cell_type": "code",
   "execution_count": 23,
   "metadata": {},
   "outputs": [
    {
     "name": "stdout",
     "output_type": "stream",
     "text": [
      "a4a = [8, 80, 5]\n"
     ]
    }
   ],
   "source": [
    "# TODO:  Set the variable to a triple of the three optimal parameter values found\n",
    "\n",
    "a4a = [8,80, 5]                            # Your answer should be a triple ( best max_depth, best max_features, best min_samples_split)\n",
    "\n",
    "print(f'a4a = {a4a}')"
   ]
  },
  {
   "cell_type": "code",
   "execution_count": 24,
   "metadata": {},
   "outputs": [
    {
     "name": "stdout",
     "output_type": "stream",
     "text": [
      "a4b = $33,641.76\n"
     ]
    }
   ],
   "source": [
    "# TODO:  Set to the best CV score found by the parameters given in the previous cell. \n",
    "\n",
    "a4b =best_rmse_gs         # Just to get it to run without error; your answer here   \n",
    "\n",
    "print(f'a4b = ${a4b:,.2f}')"
   ]
  },
  {
   "cell_type": "markdown",
   "metadata": {},
   "source": [
    "## Appendix: Which DecisionTree parameters are most important?\n",
    "\n",
    "When first exploring  a complex model such as decision trees, it’s best to focus first on those parameters that most directly affect the shape of the tree and the method used for splitting nodes. Some parameters are more important than others, especially when first using a model. Here is an approximate ordering of the parameters from most significant to least. We will only experiment with the first 4 of these parameters in this homework. \n",
    "\n",
    "---\n",
    "\n",
    "1. **max_depth** (default: **None**)  \n",
    "   *Controls the maximum depth of the tree, which is crucial for managing overfitting and overall model complexity.*\n",
    "\n",
    "2. **max_leaf_nodes** (default: **None**)  \n",
    "   *An alternative to max_depth, this limits the number of leaf nodes and can be used to control tree size in a different way.*\n",
    "\n",
    "3. **max_features** (default: **None**)  \n",
    "   *Determines the maximum number of features considered when looking for the best split. Tuning this can affect the bias-variance trade-off.*\n",
    "\n",
    "4. **min_samples_split** (default: **2**)  \n",
    "   *Specifies the minimum number of samples required to split an internal node. It influences how “greedy” the tree is in creating splits.*\n",
    "\n",
    "---\n",
    "\n",
    "5. **criterion** (default: **'squared_error'**)  \n",
    "   *Chooses the function to measure the quality of a split (e.g., squared_error, absolute_error, etc.). Experimenting with this can reveal how different error metrics impact performance.*\n",
    "\n",
    "6. **splitter** (default: **'best'**)  \n",
    "   *Decides the strategy used to choose the split at each node (typically \"best\" or \"random\"). While its effect is subtler, exploring it can be educational.*\n",
    "\n",
    "7. **min_samples_leaf** (default: **1**)  \n",
    "   *Sets the minimum number of samples that must be present in a leaf. This parameter helps prevent creating leaves with very few samples, thus reducing overfitting.*\n",
    "\n",
    "\n",
    "8. **ccp_alpha** (default: **0.0**)  \n",
    "   *The complexity parameter for Minimal Cost-Complexity Pruning. It’s useful for understanding pruning techniques, though it’s a bit more advanced.*\n",
    "\n",
    "9. **min_impurity_decrease** (default: **0.0**)  \n",
    "   *A node will be split only if the split results in a decrease in impurity greater than or equal to this threshold. It provides another way to control overfitting.*\n",
    "\n",
    "10. **min_weight_fraction_leaf** (default: **0.0**)  \n",
    "    *Ensures that each leaf has a minimum weighted fraction of the total. It’s less commonly tuned but can be relevant when sample weights matter.*\n",
    "\n",
    "11. **random_state** (default: **None**)  \n",
    "    *Used only for reproducibility, traditionally as `random_state = 42`. It doesn’t affect the model’s learning, but ensures that results are consistent across runs. Set to `None` for more realistic random behavior typical for deployed systems. \n",
    "\n"
   ]
  }
 ],
 "metadata": {
  "kernelspec": {
   "display_name": ".venv",
   "language": "python",
   "name": "python3"
  },
  "language_info": {
   "codemirror_mode": {
    "name": "ipython",
    "version": 3
   },
   "file_extension": ".py",
   "mimetype": "text/x-python",
   "name": "python",
   "nbconvert_exporter": "python",
   "pygments_lexer": "ipython3",
   "version": "3.9.7"
  }
 },
 "nbformat": 4,
 "nbformat_minor": 4
}
